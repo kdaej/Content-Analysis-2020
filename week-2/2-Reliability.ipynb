{
 "cells": [
  {
   "cell_type": "markdown",
   "metadata": {},
   "source": [
    "# Week 2 - Sampling & Reliability\n",
    "\n",
    "Up until this week, we have assumed that the corpus you have used for analysis assignments represented a *meaningful* assemblage of texts from which reasonable inferences could be drawn about the social game, social world and social actors that produced it. \n",
    "\n",
    "This week, we ask you to build a corpus for preliminary analysis and articulate what your sample represents in context of your final project. We begin by exploring how we can get *human* readings of content at scale. We want to gather and utilize human responses for several reasons. First, we may want to use crowdsourced human scores as the primary method of coding, extracting or organizing content (as it was in two of the assigned readings). Second, we may want to validate or tune a computational algorithm we may have developed in terms of how it is associated with human meanings or experience. Finally, we may want to use human coding on a sample of data as the basis for training a model or algorithm to then extrapolate *human-like* annotations to the entire population. Here intelligent sampling is critical to maximize effective maching training. \n",
    "\n",
    "For this notebook we will be using the following packages"
   ]
  },
  {
   "cell_type": "code",
   "execution_count": 1,
   "metadata": {},
   "outputs": [],
   "source": [
    "#Special module written for this class\n",
    "#This provides access to data and to helper functions from previous weeks\n",
    "#Make sure you update it before starting this notebook\n",
    "import lucem_illud_2020 #pip install -U git+git://github.com/Computational-Content-Analysis-2020/lucem_illud_2020.git\n",
    "\n",
    "#All these packages need to be installed from pip\n",
    "import numpy as np #For arrays\n",
    "import scipy as sp #For some stats\n",
    "import pandas #Gives us DataFrames\n",
    "import matplotlib.pyplot as plt #For graphics\n",
    "import seaborn #Makes the graphics look nicer\n",
    "import pyanno #On python3 make sure to pip install pyanno3\n",
    "\n",
    "#We need to import these this way due to how pyanno is setup\n",
    "from pyanno.measures import pairwise_matrix, agreement, cohens_kappa, cohens_weighted_kappa, fleiss_kappa, krippendorffs_alpha, pearsons_rho, scotts_pi, spearmans_rho\n",
    "from pyanno.annotations import AnnotationsContainer\n",
    "from pyanno.models import ModelA, ModelBt, ModelB\n",
    "\n",
    "from functools import reduce\n",
    "from itertools import permutations\n",
    "import math\n",
    "\n",
    "\n",
    "#This 'magic' command makes the plots work better\n",
    "#in the notebook, don't use it outside of a notebook.\n",
    "#Also you can ignore the warning\n",
    "%matplotlib inline\n",
    "\n",
    "import os #For looking through files\n",
    "import os.path #For managing file paths"
   ]
  },
  {
   "cell_type": "markdown",
   "metadata": {},
   "source": [
    "## <span style=\"color:red\">*Pitch the Domain of your Project*</span>\n",
    "\n",
    "<span style=\"color:red\">In the two cells immediately following, describe **WHAT** you are planning to analyze for your final project (i.e., texts, contexts and the social game, world and actors you intend to learn about through your analysis) (<200 words) and **WHY** you are going to do it (i.e., why would theory and/or the average person benefit from knowing the results of your investigation) (<200 words)? [**Note**: your individual or collective project can change over the course of the quarter if new data and/or analysis opportunities arise or if old ones fade away.]"
   ]
  },
  {
   "cell_type": "markdown",
   "metadata": {},
   "source": [
    "## ***What?*** \n",
    "<200 words\n",
    "\n",
    "I am planning to analyze abstracts of psychology literature on Asian culture. Psychology literature reflects the social game between actors including researchers of the articles, participants in the studies, psychiatrists, patients, and many others. However, not every actor has the same voice in this social game. Publishing research papers, researchers have control on what subject to study and how to examine it. In contrast, participants barely get to decide what they want to do or say in a research process. Nevertheless, the studies claim to be about participants and are supposed to benefit them. Going back to the research articles about Asian culture in specific, I hope to identify any power imbalance between researchers and participants and its implication on Asian people. For instance, the way psychologists define or describe Asian culture may not successfully resonate with their potential participants, the Asian population. Although analyzing the texts would not be able to give the direct answer to this, detecting the unchanging framework on Asian culture may speak to the power imbalance in research studies. In other words, the framework cannot change from the bottom but is rather sustained by and for the top which consists of scholars. "
   ]
  },
  {
   "cell_type": "markdown",
   "metadata": {},
   "source": [
    "## ***Why?***\n",
    "<200 words\n",
    "\n",
    "My project can benefit researchers who are interested in studying Asian culture and related studies because it can identify in what context the subject has been studied at least for the last two decades. Although there is an established framework of cultural psychology, whether empirical studies support or agree with it is not clear. Using the computational analysis to look at empirical studies on Asian culture can provide a broad and comprehensive picture of the active discussions on the topic. Therefore, as researchers, the direction psychology takes can be clear, which can help them to navigate their future studies. Also, my project can be used to check and update the theories on Asian culture. For the last few decades, many countries including the ones in Asia have significantly developed. On the other hand, the research theories have been relatively stable, which may not be relevant to today’s Asian countries or cultural framework. In my project, I will first identify in what way Asian culture is described in psychology literature. Moreover, I will examine if the framework used in these research studies has been changed over time. If not, it would imply that psychology literature has not successfully caught up with the real world. "
   ]
  },
  {
   "cell_type": "markdown",
   "metadata": {},
   "source": [
    "## <span style=\"color:red\">*Pitch Your Sample*</span>\n",
    "\n",
    "<span style=\"color:red\">In the cell immediately following, describe the rationale behind your proposed sample design for your final project. What is the social game, social work, or social actors about whom you are seeking to make inferences? What are its virtues with respect to your research questions? What are its limitations? What are alternatives? What would be a reasonable path to \"scale up\" your sample for further analysis (i.e., high-profile publication)? (<200 words)."
   ]
  },
  {
   "cell_type": "markdown",
   "metadata": {},
   "source": [
    "For the corpus, I collected 937 abstracts of psychology academic journals. These were sampled by searching “culture” on the PsycINFO database. The search results were filtered by subject to include only “Asians.” When this sampling method is straightforward, it does not ensure that I collected all the relevant data. To have stronger representation, I have been considering using other databases to compare the results. However, not every database has the same criteria to filter the articles, which may result in systematic differences between samples. \n",
    "\n",
    "The collected dataset includes metadata of year of publication, authors, and publishers. The last two can be examined as social actors in the analysis. Authors may project constant theories across articles, which may influence the way the cultural framework is maintained. Although it is not clear how the publishers might affect the theories, they may still influence the research topic and how it is studied. For instance, neuroscience studies that implement fMRI or EEG have recently gained more attention in the psychology field, which might have been affected by publishers. \n",
    "\n",
    "To further develop my corpus, I can collect the data on the number of citations for each article to examine which article has the most influence in the social game. Moreover, I need to find a better way to make my sample representative of the entire population or at least make a case for the generalizability of my sample. \n"
   ]
  },
  {
   "cell_type": "markdown",
   "metadata": {},
   "source": [
    "# Example Annotation Dataset"
   ]
  },
  {
   "cell_type": "markdown",
   "metadata": {},
   "source": [
    "Load Rzhetsky et al (2009)'s sample dataset, which can be found [here](https://github.com/enthought/uchicago-pyanno/tree/master/data). This data is the result of a content analytic / content extraction study in which Andrey Rzhetsky and colleagues from the National Library of Medicine, published [here](http://journals.plos.org/ploscompbiol/article?id=10.1371/journal.pcbi.1000391) in [PLOS Computational Biology](http://journals.plos.org/ploscompbiol/), gave eight annotators 10,000 sentence chunks from biomedical text in biomedical abstracts and articles, then asked them, in a loop design schematically illustrated below that provided 3 independent codings for each document. The sampling strategy pursued diversity by drawing from PubMed abstracts (1000) and full-text articles (9000: 20% from abstracts, 10% from introductions, 20% from methods, 25% from results, and 25% from discussions.) The dataset extract here involves respondents codes for sentences in terms of their *Evidence*: {0, 1, 2, 3, -1} where 0 is the complete lack of evidence, 3 is direct evidence present within the sentence, and -1 is didn't respond. (They also crowdsourced and analyzed *polarity*, *certainty*, and *number*). For example, consider the following two abutting sentence chunks: *\"Because null mutations in toxR and toxT abolish CT and TcpA expression in the El Tor biotype and also attenuate virulence...\"* [i.e., average certainty = 0], *\"...it is likely that the ToxR regulon has functional similarities between the two biotypes despite the clear differences in the inducing parameters observed in vitro\"* [i.e., average certainty = 1].\""
   ]
  },
  {
   "cell_type": "code",
   "execution_count": 157,
   "metadata": {},
   "outputs": [
    {
     "data": {
      "text/html": [
       "<img source=\"loopdesign.png\">\n"
      ],
      "text/plain": [
       "<IPython.core.display.HTML object>"
      ]
     },
     "metadata": {},
     "output_type": "display_data"
    }
   ],
   "source": [
    "%%html\n",
    "<img source=\"loopdesign.png\">"
   ]
  },
  {
   "cell_type": "markdown",
   "metadata": {},
   "source": [
    "[Click here for loop design](loopdesign.png)"
   ]
  },
  {
   "cell_type": "code",
   "execution_count": 9,
   "metadata": {},
   "outputs": [],
   "source": [
    "x = np.loadtxt(\"../data/pyAnno/testdata_numerical.txt\")\n",
    "anno = AnnotationsContainer.from_array(x, missing_values=[-1])"
   ]
  },
  {
   "cell_type": "markdown",
   "metadata": {},
   "source": [
    "Interrogate the AnnotationsContainer object."
   ]
  },
  {
   "cell_type": "code",
   "execution_count": 10,
   "metadata": {},
   "outputs": [
    {
     "data": {
      "text/plain": [
       "array([[ 1,  2,  3, ..., -1, -1, -1],\n",
       "       [ 0,  0,  0, ..., -1, -1, -1],\n",
       "       [ 2,  2,  1, ..., -1, -1, -1],\n",
       "       ...,\n",
       "       [ 2,  2, -1, ..., -1, -1,  1],\n",
       "       [ 2,  2, -1, ..., -1, -1,  3],\n",
       "       [ 1,  1, -1, ..., -1, -1,  0]])"
      ]
     },
     "execution_count": 10,
     "metadata": {},
     "output_type": "execute_result"
    }
   ],
   "source": [
    "anno.annotations"
   ]
  },
  {
   "cell_type": "code",
   "execution_count": 11,
   "metadata": {},
   "outputs": [
    {
     "data": {
      "text/plain": [
       "[1.0, 2.0, 3.0, 4.0]"
      ]
     },
     "execution_count": 11,
     "metadata": {},
     "output_type": "execute_result"
    }
   ],
   "source": [
    "anno.labels"
   ]
  },
  {
   "cell_type": "code",
   "execution_count": 21,
   "metadata": {},
   "outputs": [
    {
     "data": {
      "text/plain": [
       "[-1]"
      ]
     },
     "execution_count": 21,
     "metadata": {},
     "output_type": "execute_result"
    }
   ],
   "source": [
    "anno.missing_values"
   ]
  },
  {
   "cell_type": "markdown",
   "metadata": {},
   "source": [
    "# Annotation Statistics"
   ]
  },
  {
   "cell_type": "markdown",
   "metadata": {},
   "source": [
    "First, we assume categorical codes...that each code is qualitatively distinct from each other. Two measures are primarily used for this: Scott's $\\pi$, Cohen's $\\kappa$, and Krippendorff's $\\alpha$ which each measure the extent of agreement between two annotators, but take into account the possibility of the agreement occurring by chance in slightly different ways. Any agreement measure begins with the frequency of codes:"
   ]
  },
  {
   "cell_type": "code",
   "execution_count": 22,
   "metadata": {},
   "outputs": [
    {
     "data": {
      "text/plain": [
       "array([0.11666667, 0.245     , 0.34083333, 0.2975    ])"
      ]
     },
     "execution_count": 22,
     "metadata": {},
     "output_type": "execute_result"
    }
   ],
   "source": [
    "#4 is number of questions\n",
    "#each value in the array is the level of agreement between two annotators??\n",
    "pyanno.measures.agreement.labels_frequency(anno.annotations, 4)"
   ]
  },
  {
   "cell_type": "code",
   "execution_count": 23,
   "metadata": {},
   "outputs": [
    {
     "data": {
      "text/plain": [
       "array([[ 1,  2,  3, ..., -1, -1, -1],\n",
       "       [ 0,  0,  0, ..., -1, -1, -1],\n",
       "       [ 2,  2,  1, ..., -1, -1, -1],\n",
       "       ...,\n",
       "       [ 2,  2, -1, ..., -1, -1,  1],\n",
       "       [ 2,  2, -1, ..., -1, -1,  3],\n",
       "       [ 1,  1, -1, ..., -1, -1,  0]])"
      ]
     },
     "execution_count": 23,
     "metadata": {},
     "output_type": "execute_result"
    }
   ],
   "source": [
    "#each column = an annotator; each row=a question\n",
    "anno.annotations"
   ]
  },
  {
   "cell_type": "markdown",
   "metadata": {},
   "source": [
    "Now consider the \"confusion matrix\" or matrix of coded agreements between any two coders:"
   ]
  },
  {
   "cell_type": "code",
   "execution_count": 149,
   "metadata": {},
   "outputs": [
    {
     "name": "stdout",
     "output_type": "stream",
     "text": [
      "[[ 8.  7.  3.  2.]\n",
      " [ 9. 30. 13.  3.]\n",
      " [ 2.  9. 42. 11.]\n",
      " [ 1.  7. 14. 39.]]\n"
     ]
    },
    {
     "data": {
      "image/png": "[encoded data removed]",
      "text/plain": [
       "<Figure size 432x288 with 2 Axes>"
      ]
     },
     "metadata": {
      "needs_background": "light"
     },
     "output_type": "display_data"
    }
   ],
   "source": [
    "#4 is number of labels that [0,1,2,3,-1], annotators' responses (-1 is a missing value which is dropped)\n",
    "#anno.annotations[:,0] is the first annotator\n",
    "c = pyanno.measures.agreement.confusion_matrix(anno.annotations[:,0], anno.annotations[:,1], 4)\n",
    "print(c)\n",
    "ac = seaborn.heatmap(c)\n",
    "plt.show()"
   ]
  },
  {
   "cell_type": "markdown",
   "metadata": {},
   "source": [
    "Scott's $\\pi$ is computed as:\n",
    "\n",
    "$\\pi = \\frac{\\text{Pr}(a)-\\text{Pr}(e)}{1-\\text{Pr}(e)}$\n",
    "\n",
    "Where Pr($a$) is relative observed agreement, and Pr($e$) is expected agreement using joint proportions calculated from the confusion matrix or matrix of coded agreements between any two coders:"
   ]
  },
  {
   "cell_type": "code",
   "execution_count": 12,
   "metadata": {},
   "outputs": [
    {
     "data": {
      "text/plain": [
       "0.4386478265891502"
      ]
     },
     "execution_count": 12,
     "metadata": {},
     "output_type": "execute_result"
    }
   ],
   "source": [
    "scotts_pi(anno.annotations[:,0], anno.annotations[:,1])"
   ]
  },
  {
   "cell_type": "markdown",
   "metadata": {},
   "source": [
    "The generalization of Scott's $\\pi$ to $n$ coders is Fleiss' $\\kappa$ (Fleiss called it $\\kappa$ because he thought he was generalizing Cohen's $\\kappa$)"
   ]
  },
  {
   "cell_type": "code",
   "execution_count": 13,
   "metadata": {},
   "outputs": [
    {
     "data": {
      "text/plain": [
       "0.40417653771912765"
      ]
     },
     "execution_count": 13,
     "metadata": {},
     "output_type": "execute_result"
    }
   ],
   "source": [
    "fleiss_kappa(anno.annotations[::])"
   ]
  },
  {
   "cell_type": "markdown",
   "metadata": {},
   "source": [
    "Krippendorff's $\\alpha$ generalizes of Fleiss' $\\kappa$ to $n$ coders and takes into account the fact that annotations here are not categorically different, but ordinal, by adding a weight matrix in which off-diagonal cells contain weights indicating the seriousness of the disagreement between each score. When produced with no arguments, it simply produces an arithmetic distance (e.g., 3-1=2), such that cells one off the diagonal are weighted 1, two off 2, etc."
   ]
  },
  {
   "cell_type": "code",
   "execution_count": 14,
   "metadata": {},
   "outputs": [
    {
     "data": {
      "text/plain": [
       "0.6472588223831547"
      ]
     },
     "execution_count": 14,
     "metadata": {},
     "output_type": "execute_result"
    }
   ],
   "source": [
    "krippendorffs_alpha(anno.annotations[::])"
   ]
  },
  {
   "cell_type": "markdown",
   "metadata": {},
   "source": [
    "Like Scott's $\\pi$, Cohen's $\\kappa$ also takes into account the possibility of the agreement occurring by chance, but in the following way:\n",
    "\n",
    "$\\kappa = \\frac{p_o-p_e}{1-p_e}=1-\\frac{1-p_o}{p_e}$\n",
    "\n",
    "where $p_o$ is the relative observed agreement among raters, and $p_e$ is the hypothetical probability of chance agreement, using the observed data to calculate the probabilities of each observer randomly saying each category. If the raters are in complete agreement then $\\kappa = 1$. If there is no agreement among the raters other than what would be expected by chance (as given by $p_e$), $\\kappa ≤ 0 $. Here, Cohen's $\\kappa$ statistic for the first two annotators is computed. This is probably the most common metric of agreement."
   ]
  },
  {
   "cell_type": "code",
   "execution_count": null,
   "metadata": {},
   "outputs": [],
   "source": [
    "cohens_kappa(anno.annotations[:,0], anno.annotations[:,1])"
   ]
  },
  {
   "cell_type": "code",
   "execution_count": 158,
   "metadata": {},
   "outputs": [
    {
     "name": "stdout",
     "output_type": "stream",
     "text": [
      "[[1.         0.43917037 0.47677621        nan        nan        nan\n",
      "  0.45819119 0.43381462]\n",
      " [0.43917037 1.         0.38432922 0.41344423        nan        nan\n",
      "         nan 0.33643611]\n",
      " [0.47677621 0.38432922 1.         0.39583333 0.51704894        nan\n",
      "         nan        nan]\n",
      " [       nan 0.41344423 0.39583333 1.         0.34597068 0.4446844\n",
      "         nan        nan]\n",
      " [       nan        nan 0.51704894 0.34597068 1.         0.37938644\n",
      "  0.43039733        nan]\n",
      " [       nan        nan        nan 0.4446844  0.37938644 1.\n",
      "  0.38341929 0.31214748]\n",
      " [0.45819119        nan        nan        nan 0.43039733 0.38341929\n",
      "  1.         0.394806  ]\n",
      " [0.43381462 0.33643611        nan        nan        nan 0.31214748\n",
      "  0.394806   1.        ]]\n"
     ]
    }
   ],
   "source": [
    "m = pairwise_matrix(cohens_kappa, anno.annotations)\n",
    "print(m)"
   ]
  },
  {
   "cell_type": "code",
   "execution_count": 159,
   "metadata": {},
   "outputs": [
    {
     "data": {
      "image/png": "[encoded data removed]",
      "text/plain": [
       "<Figure size 432x288 with 2 Axes>"
      ]
     },
     "metadata": {
      "needs_background": "light"
     },
     "output_type": "display_data"
    }
   ],
   "source": [
    "ax = seaborn.heatmap(m)\n",
    "plt.show()"
   ]
  },
  {
   "cell_type": "markdown",
   "metadata": {},
   "source": [
    "You can see that this 8 by 3 loop design will be less stable than an 8 choose 3 combinatorial design, because each codes with more others. "
   ]
  },
  {
   "cell_type": "markdown",
   "metadata": {},
   "source": [
    "One can also assess the average Cohen's $\\kappa$ for all pairs of coders that have coded against one another:"
   ]
  },
  {
   "cell_type": "code",
   "execution_count": null,
   "metadata": {},
   "outputs": [],
   "source": [
    "def pairwise_metric_average(metric, array):\n",
    "    \"\"\"Calculate the pairwise metric average for the real elements of metric function run on an array of annotations\"\"\"\n",
    "    p = permutations(range(array[0,:].size),2)\n",
    "    m = [metric(array[:,x[0]], array[:,x[1]]) for x in p]\n",
    "    clean_m = [c for c in m if not math.isnan(c)]\n",
    "    return reduce(lambda a, b: a + b, clean_m)/len(clean_m)    \n",
    " \n",
    "pairwise_metric_average(cohens_kappa, anno.annotations)"
   ]
  },
  {
   "cell_type": "markdown",
   "metadata": {},
   "source": [
    "As recognized with Krippendorff's flexible $\\alpha$, our scores are *not* categorical, but rather ordered and her considered metric. Weighted $\\kappa$ allows you to count disagreements differently and is useful when codes are ordered as they are here. Here a weight matrix is added to the calculation, in which off-diagonal cells contain weights indicating the seriousness of the disagreement between each score. When automatically produced, it simply produces an arithmetic distance (e.g., 3-1=2), such that cells one off the diagonal are weighted 1, two off 2, etc. Here\n",
    "\n",
    "$\\kappa = 1-\\frac{\\sum^k_{i=1}\\sum^k_{j=1}w_{ij}x_{ij}}{\\sum^k_{i=1}\\sum^k_{j=1}w_{ij}m_{ij}}$\n",
    "\n",
    "where $\\kappa$ = $n$ codes and $w_{ij}$,$x_{ij}$, and $m_{ij}$ represent elements in the weight, observed, and expected matrices, respectively. (Obviously, when diagonal cells contain weights of 0 and off-diagonal cells weights of 1, this equals $\\kappa$)."
   ]
  },
  {
   "cell_type": "code",
   "execution_count": null,
   "metadata": {},
   "outputs": [],
   "source": [
    "cohens_weighted_kappa(anno.annotations[:,0], anno.annotations[:,1])"
   ]
  },
  {
   "cell_type": "markdown",
   "metadata": {},
   "source": [
    "Or averaged over the total:"
   ]
  },
  {
   "cell_type": "code",
   "execution_count": null,
   "metadata": {},
   "outputs": [],
   "source": [
    "pairwise_metric_average(cohens_weighted_kappa,anno.annotations)"
   ]
  },
  {
   "cell_type": "markdown",
   "metadata": {},
   "source": [
    "Alternatively, if the annontation data can be understood as indicating real values, we can assess not agreement, but rather the correlation of values (Pearson's $\\rho$) or correlation of ranks (Spearman's $\\rho$) for pairs of coders:"
   ]
  },
  {
   "cell_type": "code",
   "execution_count": null,
   "metadata": {},
   "outputs": [],
   "source": [
    "n = pairwise_matrix(pearsons_rho, anno.annotations)\n",
    "m = pairwise_matrix(spearmans_rho, anno.annotations)\n",
    "an = seaborn.heatmap(n)\n",
    "plt.show()\n",
    "am = seaborn.heatmap(m)\n",
    "plt.show()"
   ]
  },
  {
   "cell_type": "markdown",
   "metadata": {},
   "source": [
    "Or averaged over all comparable pairs:"
   ]
  },
  {
   "cell_type": "code",
   "execution_count": null,
   "metadata": {},
   "outputs": [],
   "source": [
    "print(pairwise_metric_average(pearsons_rho,anno.annotations), pairwise_metric_average(spearmans_rho,anno.annotations))"
   ]
  },
  {
   "cell_type": "markdown",
   "metadata": {},
   "source": [
    "## <span style=\"color:red\">*Your turn*</span>\n",
    "\n",
    "<span style=\"color:red\">Perform a content annotation survey of some kind in which at least 3 people evaluate and code each piece of content, using Amazon Mechanical Turk as described in the MTurk slides in the Assignment link on Canvas, or by hand with friends.  With the resulting data, calculate, visualize and discuss inter-coder agreement or covariation with appropriate metrics. What does this means for the reliability of human assessments regarding content in your domain?"
   ]
  },
  {
   "cell_type": "markdown",
   "metadata": {},
   "source": [
    "I wrote ten statements that describe characteristics of either Western or Eatern culture from psychology literature. I asked three people to rate each statement indicating how Western or Eastern characteristic it is. They could choose among 0, 1, 2, and 3 to answer (0=very Western, 3=very Eastern). The scale was meant to be ordinal. "
   ]
  },
  {
   "cell_type": "code",
   "execution_count": 2,
   "metadata": {},
   "outputs": [],
   "source": [
    "#Here is the survey data. Each column represents an annotator.\n",
    "y= np.array([[1,0,3],\n",
    "             [1,1,2],\n",
    "             [2,3,2],\n",
    "             [1,2,2],\n",
    "             [0,1,0],\n",
    "             [2,3,3],\n",
    "             [0,2,1],\n",
    "             [0,0,1],\n",
    "             [1,1,2],\n",
    "             [3,3,2]])\n",
    "response = AnnotationsContainer.from_array(y, missing_values=[-1])"
   ]
  },
  {
   "cell_type": "code",
   "execution_count": 3,
   "metadata": {},
   "outputs": [
    {
     "data": {
      "text/plain": [
       "array([0.2, 0.3, 0.3, 0.2])"
      ]
     },
     "execution_count": 3,
     "metadata": {},
     "output_type": "execute_result"
    }
   ],
   "source": [
    "pyanno.measures.agreement.labels_frequency(response.annotations,4)"
   ]
  },
  {
   "cell_type": "code",
   "execution_count": 4,
   "metadata": {},
   "outputs": [
    {
     "name": "stdout",
     "output_type": "stream",
     "text": [
      "[[1. 1. 1. 0.]\n",
      " [1. 2. 1. 0.]\n",
      " [0. 0. 0. 2.]\n",
      " [0. 0. 0. 1.]]\n"
     ]
    },
    {
     "data": {
      "image/png": "[encoded data removed]",
      "text/plain": [
       "<Figure size 432x288 with 2 Axes>"
      ]
     },
     "metadata": {
      "needs_background": "light"
     },
     "output_type": "display_data"
    }
   ],
   "source": [
    "#Confusion matrix\n",
    "#anno_response[:,0]: first column == person 1\n",
    "#anno_response[:,1]: second column == person 2\n",
    "d = pyanno.measures.agreement.confusion_matrix(response.annotations[:,0], response.annotations[:,1],4)\n",
    "print(d) \n",
    "ad = seaborn.heatmap(d)\n",
    "plt.show()\n",
    "#Unlike the example heatmap, this heatmap is very simple with values of either 1 or 0.\n",
    "#This is because of the small number of questions, which results in lower chance for annotators to choose the same answers. \n"
   ]
  },
  {
   "cell_type": "code",
   "execution_count": 5,
   "metadata": {},
   "outputs": [
    {
     "name": "stdout",
     "output_type": "stream",
     "text": [
      "Scotts pi for annotator 1 and 2 = 0.1836734693877551\n",
      "Scotts pi for annotator 2 and 3 = -0.09589041095890405\n",
      "Scotts pi for annotator 1 and 3 = -0.10344827586206898\n",
      "Fleiss_kappa = 0.009009009009009068\n",
      "krippendorffs_alpha = 0.4476190476190476\n"
     ]
    }
   ],
   "source": [
    "#More statistics\n",
    "#Scott's pi between two annotators\n",
    "print('Scotts pi for annotator 1 and 2','=', scotts_pi(response.annotations[:,0], response.annotations[:,1]))\n",
    "print('Scotts pi for annotator 2 and 3','=', scotts_pi(response.annotations[:,1], response.annotations[:,2]))\n",
    "print('Scotts pi for annotator 1 and 3','=', scotts_pi(response.annotations[:,0], response.annotations[:,2]))\n",
    "\n",
    "#Because there are more than two annotators, Fleiss kappa can be used.\n",
    "print ('Fleiss_kappa', '=', fleiss_kappa(response.annotations[::]))\n",
    "\n",
    "#However, Fleiss kappa is suitable for categorical data. \n",
    "#Because the data I collected are ordinal (how much do you agree)\n",
    "#I can use Krippendorff's alpha\n",
    "print ('krippendorffs_alpha','=',krippendorffs_alpha(response.annotations[::]))"
   ]
  },
  {
   "cell_type": "code",
   "execution_count": 6,
   "metadata": {},
   "outputs": [
    {
     "data": {
      "text/plain": [
       "0.2621082204446005"
      ]
     },
     "execution_count": 6,
     "metadata": {},
     "output_type": "execute_result"
    }
   ],
   "source": [
    "#Additionally, I can use weighted Cohen's kappa.\n",
    "#function to calculate the pairwise metric average \n",
    "def pairwise_metric_average(metric, array):\n",
    "    p = permutations(range(array[0,:].size),2)\n",
    "    m = [metric(array[:,x[0]], array[:,x[1]]) for x in p]\n",
    "    clean_m = [c for c in m if not math.isnan(c)]\n",
    "    return reduce(lambda a, b: a + b, clean_m)/len(clean_m)    \n",
    " \n",
    "pairwise_metric_average(cohens_weighted_kappa,response.annotations)"
   ]
  },
  {
   "cell_type": "code",
   "execution_count": 7,
   "metadata": {},
   "outputs": [
    {
     "data": {
      "image/png": "[encoded data removed]",
      "text/plain": [
       "<Figure size 432x288 with 2 Axes>"
      ]
     },
     "metadata": {
      "needs_background": "light"
     },
     "output_type": "display_data"
    },
    {
     "data": {
      "image/png": "[encoded data removed]",
      "text/plain": [
       "<Figure size 432x288 with 2 Axes>"
      ]
     },
     "metadata": {
      "needs_background": "light"
     },
     "output_type": "display_data"
    }
   ],
   "source": [
    "#Just one more alternative.\n",
    "#Using correlation between coders. The heatmaps below show that coder 1 and 2 have the least\n",
    "#correlation. \n",
    "n = pairwise_matrix(pearsons_rho, response.annotations)\n",
    "m = pairwise_matrix(spearmans_rho, response.annotations)\n",
    "an = seaborn.heatmap(n)\n",
    "plt.show()\n",
    "am = seaborn.heatmap(m)\n",
    "plt.show()"
   ]
  },
  {
   "cell_type": "markdown",
   "metadata": {},
   "source": [
    "The annotation statistics shows that coder 3 might be causing the inconsistency across annotators the most. Scotts pi has the lowest values when coder 3 is paired up with other coders. The results are consistent with the correlation statistics. It is also important to note that the overall annotation statistics were low, which might be due to small number of questions. Therefore, to ensure at least some degree of consistancy across annotators, the amount of texts to be evaluated needs to be large enough. However, if I still get small annotation statistics even with more questions, it can be suggested that people perceive cultural characteristics to be more ambiguous than concrete, resulting in disagreement among annotators. "
   ]
  },
  {
   "cell_type": "markdown",
   "metadata": {},
   "source": [
    "# Models"
   ]
  },
  {
   "cell_type": "markdown",
   "metadata": {},
   "source": [
    "However, what if some coders are better than others. The prior measures all rely on the assumption that all coders are equally good. What if some are worse than others? Now we use Rzhetsky et al (2009) and Dawid & Skene's models to make inference about true label classes by downweighting bad or deviant coders. Pyanno provides three relevant models: **ModelA, ModelB, and ModelBt**. Model A can only be currently run on a <font color=blue>balanced 8-coder design</font>, but assesses accuracy purely based on agreement. Model B with $\\theta$s models the <font color=blue>relationship between each coder and code</font>. Model B is the Dawid & Skene model from the reading. The following image schematically suggests the relationship between the models. <img src=\"../data/models.png\">"
   ]
  },
  {
   "cell_type": "markdown",
   "metadata": {},
   "source": [
    "The models should provide similar results. To estimate the parameters for any models, we first need to create a new model. "
   ]
  },
  {
   "cell_type": "code",
   "execution_count": 12,
   "metadata": {},
   "outputs": [
    {
     "name": "stdout",
     "output_type": "stream",
     "text": [
      "[[[6.29300508e-01 6.78553014e-02 1.82916415e-01 1.19927776e-01]\n",
      "  [1.01394475e-01 6.83488982e-01 1.52918169e-01 6.21983736e-02]\n",
      "  [1.04439075e-01 1.38322093e-01 7.14740443e-01 4.24983887e-02]\n",
      "  [4.83267712e-03 6.78463001e-02 1.83203229e-01 7.44117793e-01]]\n",
      "\n",
      " [[8.84229941e-01 9.51157900e-02 2.02285771e-02 4.25691915e-04]\n",
      "  [6.65505152e-02 7.06983011e-01 8.92139509e-02 1.37252523e-01]\n",
      "  [1.65066833e-01 5.31358250e-02 6.87568899e-01 9.42284433e-02]\n",
      "  [1.02469517e-02 3.83486430e-02 2.08286374e-01 7.43118031e-01]]\n",
      "\n",
      " [[8.44055579e-01 7.62132940e-02 4.00301295e-02 3.97009979e-02]\n",
      "  [2.55712733e-01 6.32585570e-01 1.02619218e-01 9.08247951e-03]\n",
      "  [2.24104147e-02 1.33213236e-01 5.02087982e-01 3.42288367e-01]\n",
      "  [1.04933914e-02 1.70578633e-01 1.95213229e-01 6.23714747e-01]]\n",
      "\n",
      " [[6.19779586e-01 3.10039980e-01 4.62145602e-02 2.39658732e-02]\n",
      "  [1.17927018e-01 6.44056242e-01 2.07044295e-01 3.09724454e-02]\n",
      "  [1.71170784e-01 1.93635501e-01 5.96703279e-01 3.84904361e-02]\n",
      "  [9.38851663e-02 5.39348493e-02 1.27897376e-01 7.24282608e-01]]\n",
      "\n",
      " [[7.58130333e-01 4.42393225e-02 9.90405940e-02 9.85897502e-02]\n",
      "  [1.82194872e-01 5.56662402e-01 2.40742666e-01 2.04000608e-02]\n",
      "  [6.94875992e-02 2.57092574e-01 4.61628773e-01 2.11791054e-01]\n",
      "  [1.32493291e-02 8.53163842e-02 2.16182569e-01 6.85251718e-01]]\n",
      "\n",
      " [[7.81351067e-01 1.57790082e-01 4.61573054e-02 1.47015449e-02]\n",
      "  [2.11423339e-01 5.61875062e-01 1.47064677e-01 7.96369218e-02]\n",
      "  [8.62113222e-02 1.54254526e-01 5.52767710e-01 2.06766442e-01]\n",
      "  [8.33534524e-02 1.26585177e-01 2.80812821e-01 5.09248550e-01]]\n",
      "\n",
      " [[6.77098869e-01 1.54484590e-01 1.03039611e-01 6.53769306e-02]\n",
      "  [1.52419694e-01 6.25115079e-01 1.49041128e-01 7.34240989e-02]\n",
      "  [9.24862769e-02 1.48610689e-01 6.70074356e-01 8.88286783e-02]\n",
      "  [2.99252205e-02 1.09047702e-01 5.36175059e-02 8.07409571e-01]]\n",
      "\n",
      " [[6.82211131e-01 2.40457415e-01 6.17374571e-02 1.55939967e-02]\n",
      "  [4.29357077e-02 6.45293885e-01 1.90080557e-01 1.21689850e-01]\n",
      "  [2.32800917e-01 7.63653350e-02 4.97468013e-01 1.93365735e-01]\n",
      "  [3.63311020e-02 8.94988480e-02 1.04439936e-01 7.69730114e-01]]]\n",
      "-2921.738730324999\n"
     ]
    }
   ],
   "source": [
    "# create a new instance of model A, with 4 label classes\n",
    "model = ModelB.create_initial_state(4, 8)\n",
    "# other model parameters are initialized from the model prior\n",
    "print(model.theta)\n",
    "print(model.log_likelihood(anno.annotations))"
   ]
  },
  {
   "cell_type": "code",
   "execution_count": 82,
   "metadata": {},
   "outputs": [
    {
     "name": "stdout",
     "output_type": "stream",
     "text": [
      "[[[0.74656729 0.10773361 0.12688146 0.01881764]\n",
      "  [0.30996272 0.42441286 0.17305973 0.09256469]\n",
      "  [0.06165512 0.24699667 0.61094494 0.08040327]\n",
      "  [0.08349437 0.04600522 0.25008727 0.62041314]]\n",
      "\n",
      " [[0.59657322 0.27922034 0.07114134 0.0530651 ]\n",
      "  [0.23072604 0.65534322 0.08641853 0.02751221]\n",
      "  [0.02139952 0.09689041 0.63420637 0.2475037 ]\n",
      "  [0.11101234 0.05879792 0.13145405 0.69873569]]\n",
      "\n",
      " [[0.78970015 0.11484868 0.05012656 0.04532462]\n",
      "  [0.27029093 0.57710731 0.08049371 0.07210805]\n",
      "  [0.12374556 0.22977371 0.38672679 0.25975394]\n",
      "  [0.00408607 0.0496171  0.25058174 0.69571508]]\n",
      "\n",
      " [[0.70983766 0.12055448 0.1548333  0.01477455]\n",
      "  [0.12956422 0.65842533 0.089016   0.12299445]\n",
      "  [0.10605944 0.25602745 0.42347223 0.21444089]\n",
      "  [0.02110535 0.02619974 0.26599587 0.68669905]]\n",
      "\n",
      " [[0.72131431 0.1107209  0.1493673  0.0185975 ]\n",
      "  [0.11792835 0.57473734 0.22630567 0.08102864]\n",
      "  [0.06248123 0.24424245 0.45657523 0.23670109]\n",
      "  [0.00746607 0.12551117 0.1905839  0.67643886]]\n",
      "\n",
      " [[0.76974646 0.09400372 0.13438297 0.00186684]\n",
      "  [0.17333063 0.46412134 0.31327046 0.04927757]\n",
      "  [0.00808576 0.18669418 0.6514789  0.15374117]\n",
      "  [0.02055935 0.04136617 0.22374008 0.71433439]]\n",
      "\n",
      " [[0.85460739 0.10358216 0.02134207 0.02046838]\n",
      "  [0.07848976 0.75847773 0.07477934 0.08825316]\n",
      "  [0.04336576 0.11499246 0.60528199 0.2363598 ]\n",
      "  [0.01921786 0.05569728 0.0796206  0.84546426]]\n",
      "\n",
      " [[0.83515788 0.11312274 0.04176589 0.00995349]\n",
      "  [0.22939129 0.50854157 0.13600414 0.126063  ]\n",
      "  [0.02699935 0.15191309 0.75730263 0.06378493]\n",
      "  [0.0396678  0.02764685 0.12165916 0.8110262 ]]]\n",
      "-3281.824672603526\n"
     ]
    }
   ],
   "source": [
    "print(model.log_likelihood(anno.annotations))"
   ]
  },
  {
   "cell_type": "code",
   "execution_count": 83,
   "metadata": {},
   "outputs": [],
   "source": [
    "samples = model.sample_posterior_over_accuracy(anno.annotations, 200, burn_in_samples=100, thin_samples=3)"
   ]
  },
  {
   "cell_type": "markdown",
   "metadata": {},
   "source": [
    "Pyanno allows one to use either MLE (maximum likelihood estimation) or MAP (maximum a posteriori estimation) to estimate model parameters. Note that the parameters here correspond to our estimation of the accuracy of each annotator."
   ]
  },
  {
   "cell_type": "code",
   "execution_count": null,
   "metadata": {},
   "outputs": [],
   "source": [
    "#model.map: using MAP (maximum a posteriori estimation).\n",
    "model.map(anno.annotations)\n",
    "print(model.theta)\n",
    "print(model.log_likelihood(anno.annotations))"
   ]
  },
  {
   "cell_type": "code",
   "execution_count": null,
   "metadata": {},
   "outputs": [],
   "source": [
    "model = ModelB.create_initial_state(4, 8)\n",
    "model.map(anno.annotations)\n",
    "print(model.theta)\n",
    "#I am guessing this is MLE???????\n",
    "print(model.log_likelihood(anno.annotations))"
   ]
  },
  {
   "cell_type": "markdown",
   "metadata": {},
   "source": [
    "Once we have model parameters estimated, we can now make inferences about the true label classes. We can calculate the posterior distribution over the true label classes."
   ]
  },
  {
   "cell_type": "code",
   "execution_count": 86,
   "metadata": {},
   "outputs": [
    {
     "name": "stdout",
     "output_type": "stream",
     "text": [
      "[[5.23376541e-02 2.32028596e-02 3.56805176e-01 5.67654310e-01]\n",
      " [9.98097146e-01 9.91640260e-04 8.34068590e-04 7.71453838e-05]\n",
      " [4.39579632e-02 1.69271601e-02 9.32545192e-01 6.56968509e-03]\n",
      " ...\n",
      " [7.17374064e-03 2.36798416e-02 9.43333073e-01 2.58133448e-02]\n",
      " [2.47887843e-05 1.98675465e-03 8.31389070e-01 1.66599387e-01]\n",
      " [9.55703039e-01 4.14289048e-02 2.14162223e-03 7.26434162e-04]]\n"
     ]
    }
   ],
   "source": [
    "posterior = model.infer_labels(anno.annotations)\n",
    "print(posterior)"
   ]
  },
  {
   "cell_type": "markdown",
   "metadata": {},
   "source": [
    "Let's turn the posterior of the first 100 samples into a heatmap."
   ]
  },
  {
   "cell_type": "code",
   "execution_count": 87,
   "metadata": {},
   "outputs": [],
   "source": [
    "votes = []\n",
    "for r in anno.annotations:\n",
    "    v = [0] * len(anno.labels)\n",
    "    votes.append(v)\n",
    "    for a in r:\n",
    "        if a > -1:\n",
    "            v[a] += 1\n",
    "votes_array = np.array(votes)"
   ]
  },
  {
   "cell_type": "code",
   "execution_count": 88,
   "metadata": {},
   "outputs": [
    {
     "data": {
      "image/png": "[encoded data removed]",
      "text/plain": [
       "<Figure size 1080x720 with 4 Axes>"
      ]
     },
     "metadata": {
      "needs_background": "light"
     },
     "output_type": "display_data"
    }
   ],
   "source": [
    "fig, (ax1, ax2) = plt.subplots(ncols=2, figsize = (15, 10), sharey=True)\n",
    "num_questions = 20\n",
    "\n",
    "seaborn.heatmap(votes_array[:num_questions], annot = True, ax=ax2)\n",
    "seaborn.heatmap(posterior[:num_questions], annot=True, ax =ax1)\n",
    "ax1.set_title(\"Model\")\n",
    "ax2.set_title(\"Votes\")\n",
    "plt.show()"
   ]
  },
  {
   "cell_type": "markdown",
   "metadata": {},
   "source": [
    "This differs markedly from taking annotator scores at face value (Add comparison of average values)"
   ]
  },
  {
   "cell_type": "code",
   "execution_count": 93,
   "metadata": {},
   "outputs": [],
   "source": [
    "samples = model.sample_posterior_over_accuracy(anno.annotations, 200, burn_in_samples=100, thin_samples=3)"
   ]
  },
  {
   "cell_type": "code",
   "execution_count": 94,
   "metadata": {},
   "outputs": [
    {
     "name": "stdout",
     "output_type": "stream",
     "text": [
      "[[[0.73228273 0.19719987 0.04968715 0.02083025]\n",
      "  [0.15051541 0.68734136 0.09298799 0.06915525]\n",
      "  [0.02803527 0.15800177 0.6799435  0.13401946]\n",
      "  [0.01230505 0.03097776 0.09931203 0.85740516]]\n",
      "\n",
      " [[0.67724257 0.2012158  0.09136763 0.03017399]\n",
      "  [0.13935073 0.69005359 0.12285176 0.04774392]\n",
      "  [0.03240544 0.17450104 0.65390787 0.13918566]\n",
      "  [0.0098746  0.0642226  0.13237022 0.79353258]]\n",
      "\n",
      " [[0.79018079 0.14258267 0.04584684 0.0213897 ]\n",
      "  [0.10686927 0.7558668  0.09559732 0.04166661]\n",
      "  [0.06509588 0.13755577 0.68568012 0.11166823]\n",
      "  [0.01553815 0.06150166 0.21577678 0.70718341]]\n",
      "\n",
      " [[0.66370333 0.26976934 0.04864805 0.01787928]\n",
      "  [0.10759398 0.73700765 0.11720344 0.03819492]\n",
      "  [0.02461866 0.149137   0.67610581 0.15013854]\n",
      "  [0.00854388 0.04000412 0.2359356  0.7155164 ]]\n",
      "\n",
      " [[0.77069404 0.12842185 0.0824044  0.01847971]\n",
      "  [0.12884158 0.66778479 0.15570637 0.04766726]\n",
      "  [0.02037603 0.21951582 0.63142681 0.12868134]\n",
      "  [0.00910756 0.06850856 0.19028899 0.73209489]]\n",
      "\n",
      " [[0.73587126 0.20609299 0.04158916 0.01644658]\n",
      "  [0.11590796 0.67596241 0.16314445 0.04498518]\n",
      "  [0.03296809 0.17880428 0.65158499 0.13664263]\n",
      "  [0.01056864 0.09266972 0.15831822 0.73844342]]\n",
      "\n",
      " [[0.72916636 0.15314061 0.09470151 0.02299152]\n",
      "  [0.12063133 0.64198063 0.17536623 0.06202182]\n",
      "  [0.0242462  0.12525704 0.71258921 0.13790755]\n",
      "  [0.00944645 0.05300474 0.14604384 0.79150498]]\n",
      "\n",
      " [[0.78079283 0.14571563 0.0540861  0.01940544]\n",
      "  [0.14027838 0.60991624 0.19713668 0.05266871]\n",
      "  [0.03562449 0.17073533 0.63234912 0.16129106]\n",
      "  [0.01028442 0.05541608 0.1260211  0.8082784 ]]]\n",
      "[[[0.06738299 0.06063068 0.03319197 0.01923418]\n",
      "  [0.04224929 0.06046063 0.03624619 0.03210694]\n",
      "  [0.01673033 0.03852972 0.0464295  0.03674543]\n",
      "  [0.01161619 0.01950585 0.03637107 0.0400418 ]]\n",
      "\n",
      " [[0.07171063 0.06549553 0.04594151 0.02604899]\n",
      "  [0.0450559  0.056333   0.04458004 0.02705193]\n",
      "  [0.0170331  0.03972611 0.0468548  0.03748373]\n",
      "  [0.01039414 0.02802898 0.04009905 0.04722372]]\n",
      "\n",
      " [[0.06220141 0.05988721 0.02926124 0.02136772]\n",
      "  [0.0432744  0.06075483 0.03948778 0.02569792]\n",
      "  [0.02611872 0.04023096 0.05057805 0.03129894]\n",
      "  [0.01241359 0.02669893 0.04838628 0.0521628 ]]\n",
      "\n",
      " [[0.07489608 0.06988315 0.03176027 0.01637387]\n",
      "  [0.04029719 0.05900087 0.04318406 0.02296555]\n",
      "  [0.01470472 0.0392076  0.04764693 0.0396592 ]\n",
      "  [0.00770073 0.02106063 0.04469432 0.04377443]]\n",
      "\n",
      " [[0.06194176 0.05214972 0.0440158  0.01854975]\n",
      "  [0.04382708 0.05700757 0.0496635  0.02406374]\n",
      "  [0.01550749 0.04293148 0.04868015 0.0366781 ]\n",
      "  [0.00892012 0.0302688  0.0433253  0.04813477]]\n",
      "\n",
      " [[0.06088164 0.05801519 0.02711819 0.01676031]\n",
      "  [0.04458749 0.06799674 0.05238358 0.02796673]\n",
      "  [0.01801176 0.04115451 0.04692506 0.04221946]\n",
      "  [0.00951366 0.03023667 0.04617135 0.0489627 ]]\n",
      "\n",
      " [[0.06433015 0.05520783 0.03835407 0.02029718]\n",
      "  [0.04461854 0.06555836 0.05359226 0.0372005 ]\n",
      "  [0.0141435  0.03350999 0.04527352 0.03785334]\n",
      "  [0.00903385 0.0238519  0.04027179 0.04308804]]\n",
      "\n",
      " [[0.0641814  0.05434456 0.03475977 0.01897909]\n",
      "  [0.04649867 0.06783156 0.05996612 0.03068582]\n",
      "  [0.01723625 0.0347197  0.04358407 0.03627002]\n",
      "  [0.01018873 0.02884669 0.04429211 0.05034884]]]\n"
     ]
    }
   ],
   "source": [
    "print(samples[0].mean(axis=0))\n",
    "print(samples[0].std(axis=0))"
   ]
  },
  {
   "cell_type": "markdown",
   "metadata": {},
   "source": [
    "Let's try everything again with ModelBt"
   ]
  },
  {
   "cell_type": "code",
   "execution_count": 95,
   "metadata": {},
   "outputs": [
    {
     "name": "stdout",
     "output_type": "stream",
     "text": [
      "[0.87635939 0.7679969  0.85596296 0.86584388 0.60490799 0.80723901\n",
      " 0.93972644 0.84882375]\n",
      "-3014.2934860513046\n"
     ]
    }
   ],
   "source": [
    "# create a new instance of model B, with 4 label classes and 8 annotators.\n",
    "model = ModelBt.create_initial_state(4, 8)\n",
    "print(model.theta)\n",
    "print(model.log_likelihood(anno.annotations))"
   ]
  },
  {
   "cell_type": "code",
   "execution_count": 96,
   "metadata": {},
   "outputs": [
    {
     "name": "stdout",
     "output_type": "stream",
     "text": [
      "[0.79128187 0.74073122 0.76232905 0.72516277 0.71648925 0.71858242\n",
      " 0.77318903 0.71665603]\n",
      "-2811.946273277248\n"
     ]
    }
   ],
   "source": [
    "model.map(anno.annotations)\n",
    "print(model.theta)\n",
    "print(model.log_likelihood(anno.annotations))"
   ]
  },
  {
   "cell_type": "code",
   "execution_count": 97,
   "metadata": {},
   "outputs": [
    {
     "name": "stdout",
     "output_type": "stream",
     "text": [
      "[[0.01110432 0.28926807 0.3649058  0.33472182]\n",
      " [0.9902277  0.00241791 0.00404744 0.00330695]\n",
      " [0.00250049 0.05510975 0.93455675 0.00783302]\n",
      " ...\n",
      " [0.00252997 0.04396928 0.94557538 0.00792537]\n",
      " [0.00249495 0.00571449 0.93248656 0.059304  ]\n",
      " [0.03190452 0.93880291 0.01612098 0.0131716 ]]\n"
     ]
    }
   ],
   "source": [
    "posterior = model.infer_labels(anno.annotations)\n",
    "print(posterior)"
   ]
  },
  {
   "cell_type": "markdown",
   "metadata": {},
   "source": [
    "Let's visualize the posterior of the first 10 samples according to ModelBt."
   ]
  },
  {
   "cell_type": "code",
   "execution_count": 98,
   "metadata": {},
   "outputs": [
    {
     "data": {
      "image/png": "[encoded data removed]",
      "text/plain": [
       "<Figure size 432x288 with 2 Axes>"
      ]
     },
     "metadata": {
      "needs_background": "light"
     },
     "output_type": "display_data"
    }
   ],
   "source": [
    "ax = seaborn.heatmap(posterior[:10,])\n",
    "plt.show()"
   ]
  },
  {
   "cell_type": "markdown",
   "metadata": {},
   "source": [
    "The property of these scores is that they enable us to identify the most likely code assuming coders of unequal quality, which also allows us to break ties when we know coder identity. For some analyses, we may simply use the posterior themselves rather than the most probably code outcome."
   ]
  },
  {
   "cell_type": "markdown",
   "metadata": {},
   "source": [
    "# Generating Annotations"
   ]
  },
  {
   "cell_type": "markdown",
   "metadata": {},
   "source": [
    "Pyanno also allows one to generate artificial data from a model."
   ]
  },
  {
   "cell_type": "code",
   "execution_count": 99,
   "metadata": {},
   "outputs": [
    {
     "data": {
      "text/plain": [
       "array([[0, 0, 2],\n",
       "       [0, 2, 0],\n",
       "       [3, 3, 3],\n",
       "       [2, 3, 1],\n",
       "       [2, 3, 2],\n",
       "       [0, 0, 0],\n",
       "       [2, 2, 0],\n",
       "       [1, 1, 3],\n",
       "       [3, 1, 1],\n",
       "       [0, 0, 3],\n",
       "       [2, 2, 1],\n",
       "       [2, 1, 0],\n",
       "       [3, 3, 3],\n",
       "       [1, 1, 3],\n",
       "       [3, 3, 2],\n",
       "       [1, 1, 1],\n",
       "       [1, 0, 1],\n",
       "       [2, 2, 1],\n",
       "       [2, 2, 3],\n",
       "       [2, 3, 1]])"
      ]
     },
     "execution_count": 99,
     "metadata": {},
     "output_type": "execute_result"
    }
   ],
   "source": [
    "model = ModelBt.create_initial_state(4, 3, theta=[0.99,0.75,0.25])\n",
    "#randome generate annotations with 4 label classes and 3 annotators. The accuracy of the three annotators are 0.99, 0.75, and 0.25 respectively.\n",
    "model.generate_annotations(20)"
   ]
  },
  {
   "cell_type": "markdown",
   "metadata": {},
   "source": [
    "## Visualizing coder accuracy"
   ]
  },
  {
   "cell_type": "markdown",
   "metadata": {},
   "source": [
    "Pyanno provides a [graphical user interface](http://docs.enthought.com/uchicago-pyanno/user_guide.html) for making plots. However, it is not compatible with ipython notebooks. Nevertheless, nothing prevents us from making plots using matplotlib. Let's make a plot of the accuracy of each annotator inferred from ModelA."
   ]
  },
  {
   "cell_type": "code",
   "execution_count": 100,
   "metadata": {},
   "outputs": [],
   "source": [
    "model = ModelBt.create_initial_state(4, 8)\n",
    "model.mle(anno.annotations)\n",
    "samples = model.sample_posterior_over_accuracy(anno.annotations, 200, burn_in_samples=100, thin_samples=3)\n",
    "y =  samples.mean(axis=0)#.mean(axis = 1).mean(axis = 1)\n",
    "y_ci = samples.std(axis=0)#.mean(axis = 1).mean(axis = 1)"
   ]
  },
  {
   "cell_type": "code",
   "execution_count": 101,
   "metadata": {},
   "outputs": [
    {
     "data": {
      "image/png": "[encoded data removed]",
      "text/plain": [
       "<Figure size 432x288 with 1 Axes>"
      ]
     },
     "metadata": {
      "needs_background": "light"
     },
     "output_type": "display_data"
    }
   ],
   "source": [
    "plt.figure()\n",
    "plt.errorbar(range(8),y, yerr = y_ci)\n",
    "plt.show()"
   ]
  },
  {
   "cell_type": "markdown",
   "metadata": {},
   "source": [
    "# Example with articles that use the General Social Survey"
   ]
  },
  {
   "cell_type": "markdown",
   "metadata": {},
   "source": [
    "I performed a recent study in which the variables from thousands of articles were associated with those used in the General Social Survey, a widely used population sample, in order to interrogate how social science analyses are performed. Each article was reread and coded by a balanced set of three student coders using a 6 choose 3 design, such that all possible 3-coder-subsets (20) coded an equal number of articles. Coding was performed through a website that allowed students access to the digital article. To evaluate the validity of the student codes, we also recruited a sample of authors associated with 97 of our published articles to fill out the same online survey. \n",
    "\n",
    "Because not all coders coded items with equal accuracy, and because “don’t know” was an optional answer, leading to potential ties, we used a generative, probabilistic model to estimate the maximum a posteriori probability (MAP) prediction that an item’s code is true, which integrates over the estimated accuracy of coders, assuming only that the entire population of coders is slightly more often right than wrong. The model (“Model B”) is based on a simple underlying generation process that directly accounts for the probability that coded values are correct (Rzhetsky et al. 2009). For each coded value j, a set of parameters, denoted γj, represents the probability that each coded value is correct. For the ith coder (i = 1, 2, …, 6), we introduce a matrix of probabilities, denoted λ(i)x|y, that defines the probability that she assigns code x (e.g., Dependent variable) to a GSS variable with correct annotation y. For a perfect coder, the matrix λ(i)x|y would equal the identity matrix and her vote would count most toward the total. For a coder that always codes incorrectly—a “troll”—her matrix λ(i)x|y will have all its value off the diagonal and will only minimally influence the posterior. We co-authored the open source pyanno software that implements this model."
   ]
  },
  {
   "cell_type": "markdown",
   "metadata": {},
   "source": [
    "Getting the data for each content analysis survey regarding how GSS variables were used in a large population of social science articles."
   ]
  },
  {
   "cell_type": "code",
   "execution_count": 102,
   "metadata": {},
   "outputs": [],
   "source": [
    "#anno_vdep = AnnotationsContainer.from_file(missing_values=[-1], filename=\"GSSvariable_testSdependent.csv\")\n",
    "dev = np.loadtxt(fname=\"../data/dataforgssstudy/n7GSSvariable_testSdependent.csv\", dtype=int, delimiter=\",\")\n",
    "anno_dv = AnnotationsContainer.from_array(dev)\n",
    "\n",
    "ind = np.loadtxt(fname=\"../data/dataforgssstudy/n7GSSvariable_testSindependent.csv\", dtype=int, delimiter=\",\")\n",
    "anno_iv = AnnotationsContainer.from_array(ind)\n",
    "\n",
    "cent = np.loadtxt(fname=\"../data/dataforgssstudy/n7GSSvariable_testScentral.csv\", dtype=int, delimiter=\",\")\n",
    "anno_cv = AnnotationsContainer.from_array(cent)\n",
    "\n",
    "cont = np.loadtxt(fname=\"../data/dataforgssstudy/n7GSSvariable_testScontrol.csv\", dtype=int, delimiter=\",\")\n",
    "anno_ctv = AnnotationsContainer.from_array(cont)\n",
    "\n",
    "test = np.loadtxt(fname=\"../data/dataforgssstudy/testH.csv\", dtype=int, delimiter=\",\")\n",
    "anno_test = AnnotationsContainer.from_array(test)"
   ]
  },
  {
   "cell_type": "markdown",
   "metadata": {},
   "source": [
    "Let's examine the data structure."
   ]
  },
  {
   "cell_type": "code",
   "execution_count": 103,
   "metadata": {},
   "outputs": [
    {
     "data": {
      "text/plain": [
       "(21461, 6)"
      ]
     },
     "execution_count": 103,
     "metadata": {},
     "output_type": "execute_result"
    }
   ],
   "source": [
    "dev.shape"
   ]
  },
  {
   "cell_type": "code",
   "execution_count": 104,
   "metadata": {},
   "outputs": [
    {
     "data": {
      "text/plain": [
       "[0, 1]"
      ]
     },
     "execution_count": 104,
     "metadata": {},
     "output_type": "execute_result"
    }
   ],
   "source": [
    "anno_dv.labels"
   ]
  },
  {
   "cell_type": "code",
   "execution_count": 105,
   "metadata": {},
   "outputs": [
    {
     "data": {
      "text/plain": [
       "[-1]"
      ]
     },
     "execution_count": 105,
     "metadata": {},
     "output_type": "execute_result"
    }
   ],
   "source": [
    "anno_dv.missing_values"
   ]
  },
  {
   "cell_type": "code",
   "execution_count": 106,
   "metadata": {},
   "outputs": [
    {
     "data": {
      "text/plain": [
       "(21461, 6)"
      ]
     },
     "execution_count": 106,
     "metadata": {},
     "output_type": "execute_result"
    }
   ],
   "source": [
    "anno_dv.annotations.shape"
   ]
  },
  {
   "cell_type": "markdown",
   "metadata": {},
   "source": [
    "First, let's use Cohen's $\\kappa$ to measure agreement between coders..."
   ]
  },
  {
   "cell_type": "code",
   "execution_count": 107,
   "metadata": {},
   "outputs": [
    {
     "name": "stdout",
     "output_type": "stream",
     "text": [
      "[[1.         0.62426874 0.46682841 0.44599604 0.16569888 0.36657805]\n",
      " [0.62426874 1.         0.53480937 0.52673854 0.3306905  0.59513211]\n",
      " [0.46682841 0.53480937 1.         0.50580068 0.42393752 0.49833997]\n",
      " [0.44599604 0.52673854 0.50580068 1.         0.46517493 0.47023754]\n",
      " [0.16569888 0.3306905  0.42393752 0.46517493 1.         0.66190749]\n",
      " [0.36657805 0.59513211 0.49833997 0.47023754 0.66190749 1.        ]]\n"
     ]
    }
   ],
   "source": [
    "m = pairwise_matrix(cohens_kappa, anno_dv.annotations)\n",
    "print(m)"
   ]
  },
  {
   "cell_type": "markdown",
   "metadata": {},
   "source": [
    "Let's visualize that..."
   ]
  },
  {
   "cell_type": "code",
   "execution_count": 108,
   "metadata": {},
   "outputs": [
    {
     "data": {
      "image/png": "[encoded data removed]",
      "text/plain": [
       "<Figure size 432x288 with 2 Axes>"
      ]
     },
     "metadata": {
      "needs_background": "light"
     },
     "output_type": "display_data"
    }
   ],
   "source": [
    "ax = seaborn.heatmap(m)\n",
    "plt.show()"
   ]
  },
  {
   "cell_type": "code",
   "execution_count": 13,
   "metadata": {},
   "outputs": [
    {
     "ename": "NameError",
     "evalue": "name 'anno_dv' is not defined",
     "output_type": "error",
     "traceback": [
      "\u001b[0;31m---------------------------------------------------------------------------\u001b[0m",
      "\u001b[0;31mNameError\u001b[0m                                 Traceback (most recent call last)",
      "\u001b[0;32m<ipython-input-13-381cb248c652>\u001b[0m in \u001b[0;36m<module>\u001b[0;34m\u001b[0m\n\u001b[0;32m----> 1\u001b[0;31m \u001b[0mpairwise_metric_average\u001b[0m\u001b[0;34m(\u001b[0m\u001b[0mcohens_kappa\u001b[0m\u001b[0;34m,\u001b[0m \u001b[0manno_dv\u001b[0m\u001b[0;34m.\u001b[0m\u001b[0mannotations\u001b[0m\u001b[0;34m)\u001b[0m\u001b[0;34m\u001b[0m\u001b[0;34m\u001b[0m\u001b[0m\n\u001b[0m",
      "\u001b[0;31mNameError\u001b[0m: name 'anno_dv' is not defined"
     ]
    }
   ],
   "source": [
    "pairwise_metric_average(cohens_kappa, anno_dv.annotations)"
   ]
  },
  {
   "cell_type": "markdown",
   "metadata": {},
   "source": [
    "Let's compute the statistics on each of the datasets and with Pearson's $\\rho$. "
   ]
  },
  {
   "cell_type": "code",
   "execution_count": 110,
   "metadata": {},
   "outputs": [],
   "source": [
    "datasets = [anno_dv.annotations, anno_iv.annotations, anno_cv.annotations, anno_ctv.annotations]\n",
    "ck = [pairwise_matrix(cohens_kappa, anno) for anno in datasets]\n",
    "pr = [pairwise_matrix(pearsons_rho, anno) for anno in datasets]\n",
    "titles = ['DV', 'IV', 'Central Variable', \"Control Variable\"]"
   ]
  },
  {
   "cell_type": "code",
   "execution_count": 111,
   "metadata": {},
   "outputs": [
    {
     "data": {
      "image/png": "[encoded data removed]",
      "text/plain": [
       "<Figure size 1296x504 with 16 Axes>"
      ]
     },
     "metadata": {
      "needs_background": "light"
     },
     "output_type": "display_data"
    }
   ],
   "source": [
    "fig, axs = plt.subplots(2,4)\n",
    "fig.set_size_inches(18, 7)\n",
    "for k, ax, title in zip(ck,axs[0], titles):\n",
    "    seaborn.heatmap(k, ax = ax)\n",
    "    ax.set_title(title)\n",
    "    ax.set_xticks(())\n",
    "    ax.set_yticks(())\n",
    "for r, ax in zip(pr,axs[1]):\n",
    "    seaborn.heatmap(r, ax = ax)\n",
    "    ax.set_xticks(())\n",
    "    ax.set_yticks(())\n",
    "plt.show()"
   ]
  },
  {
   "cell_type": "markdown",
   "metadata": {},
   "source": [
    "Now we will compare the student coders."
   ]
  },
  {
   "cell_type": "code",
   "execution_count": 112,
   "metadata": {},
   "outputs": [],
   "source": [
    "nondiag = (np.eye(6)-np.ones(6))*-1.0"
   ]
  },
  {
   "cell_type": "code",
   "execution_count": 113,
   "metadata": {},
   "outputs": [
    {
     "name": "stdout",
     "output_type": "stream",
     "text": [
      "0.47214258445407015\n",
      "0.5142407278222343\n",
      "0.4529627823703711\n",
      "0.4759652686686345\n",
      "0.27082376869768193\n",
      "0.31514049828362717\n",
      "0.32833477875850064\n",
      "0.39458527791963477\n"
     ]
    }
   ],
   "source": [
    "xdevck = pairwise_matrix(cohens_kappa, anno_dv.annotations)\n",
    "xdevpr = pairwise_matrix(pearsons_rho, anno_dv.annotations)\n",
    "\n",
    "xindck = pairwise_matrix(cohens_kappa, anno_iv.annotations)\n",
    "xindpr = pairwise_matrix(pearsons_rho, anno_iv.annotations)\n",
    "\n",
    "xcenck = pairwise_matrix(cohens_kappa, anno_cv.annotations)\n",
    "xcenpr = pairwise_matrix(pearsons_rho, anno_cv.annotations)\n",
    "\n",
    "xconck = pairwise_matrix(cohens_kappa, anno_ctv.annotations)\n",
    "xconpr = pairwise_matrix(pearsons_rho, anno_ctv.annotations)\n",
    "\n",
    "print(np.average(xdevck, weights=nondiag))\n",
    "print(np.average(xdevpr, weights=nondiag))\n",
    "print(np.average(xindck, weights=nondiag))\n",
    "print(np.average(xindpr, weights=nondiag))\n",
    "print(np.average(xcenck, weights=nondiag))\n",
    "print(np.average(xcenpr, weights=nondiag))\n",
    "print(np.average(xconck, weights=nondiag))\n",
    "print(np.average(xconpr, weights=nondiag))"
   ]
  },
  {
   "cell_type": "markdown",
   "metadata": {},
   "source": [
    "Now we are going to bring in \"gold standard\" data. In this case, this is where we asked authors of the articles to code their own article's variables and compare with our student coders."
   ]
  },
  {
   "cell_type": "code",
   "execution_count": 114,
   "metadata": {},
   "outputs": [],
   "source": [
    "mergedata = np.loadtxt(fname=\"../data/dataforgssstudy/gss_mergedataC.txt\", dtype=int, delimiter=\"\\t\")"
   ]
  },
  {
   "cell_type": "code",
   "execution_count": 115,
   "metadata": {},
   "outputs": [],
   "source": [
    "anno_merge_dep = AnnotationsContainer.from_array(mergedata[:,0:2])\n",
    "anno_merge_ind = AnnotationsContainer.from_array(mergedata[:,2:4])\n",
    "anno_merge_cen = AnnotationsContainer.from_array(mergedata[:,4:6])\n",
    "anno_merge_con = AnnotationsContainer.from_array(mergedata[:,6:8])\n",
    "anno_merge_dkn = AnnotationsContainer.from_array(mergedata[:,8:10])"
   ]
  },
  {
   "cell_type": "code",
   "execution_count": 116,
   "metadata": {},
   "outputs": [
    {
     "name": "stdout",
     "output_type": "stream",
     "text": [
      "Dependent variable -- kappa & rho\n",
      "0.3744311057948666\n",
      "0.38563437203620626\n",
      "\n",
      "Independent variable\n",
      "0.5430690164641346\n",
      "0.5529974941771466\n",
      "\n",
      "Central variable\n",
      "-0.064017189548477\n",
      "-0.08887644319259179\n",
      "\n",
      "Control variable\n",
      "0.2815172499181942\n",
      "0.28239237574620263\n"
     ]
    }
   ],
   "source": [
    "print(\"\"\"Dependent variable -- kappa & rho\"\"\")\n",
    "print(cohens_kappa(anno_merge_dep.annotations[:,0], anno_merge_dep.annotations[:,1]))\n",
    "print(pearsons_rho(anno_merge_dep.annotations[:,0], anno_merge_dep.annotations[:,1]))\n",
    "\n",
    "print(\"\\nIndependent variable\")\n",
    "print(cohens_kappa(anno_merge_ind.annotations[:,0], anno_merge_ind.annotations[:,1]))\n",
    "print(pearsons_rho(anno_merge_ind.annotations[:,0], anno_merge_ind.annotations[:,1]))\n",
    "\n",
    "print(\"\\nCentral variable\")\n",
    "print(cohens_kappa(anno_merge_cen.annotations[:,0], anno_merge_cen.annotations[:,1]))\n",
    "print(pearsons_rho(anno_merge_cen.annotations[:,0], anno_merge_cen.annotations[:,1]))\n",
    "\n",
    "print(\"\\nControl variable\")\n",
    "print(cohens_kappa(anno_merge_con.annotations[:,0], anno_merge_con.annotations[:,1]))\n",
    "print(pearsons_rho(anno_merge_con.annotations[:,0], anno_merge_con.annotations[:,1]))"
   ]
  },
  {
   "cell_type": "markdown",
   "metadata": {},
   "source": [
    "Whoah! Student coders and authors viewed articles that were \"central\" or critical to the published argument as fundamentally different (exhibiting negative agreement and correlation). Why? Likely because that researchers recalled what they had _intended_ as their central variables before analysis, but those that _worked out_ became central in the text."
   ]
  },
  {
   "cell_type": "markdown",
   "metadata": {},
   "source": [
    "Now for the assessment of the relative values of authors, then student coders."
   ]
  },
  {
   "cell_type": "code",
   "execution_count": null,
   "metadata": {},
   "outputs": [],
   "source": [
    "print(\"Dependent\")\n",
    "print(np.average(anno_merge_dep.annotations[:,0]))\n",
    "print(np.average(anno_merge_dep.annotations[:,1]))\n",
    "\n",
    "print(\"\\nIndependent\")\n",
    "print(np.average(anno_merge_ind.annotations[:,0]))\n",
    "print(np.average(anno_merge_ind.annotations[:,1]))\n",
    "\n",
    "print(\"\\nCentral\")\n",
    "print(np.average(anno_merge_cen.annotations[:,0]))\n",
    "print(np.average(anno_merge_cen.annotations[:,1]))\n",
    "\n",
    "print(\"\\nControl\")\n",
    "print(np.average(anno_merge_con.annotations[:,0]))\n",
    "print(np.average(anno_merge_con.annotations[:,1]))"
   ]
  },
  {
   "cell_type": "markdown",
   "metadata": {},
   "source": [
    "## Now we are going to use models to predict the correct annotations\n",
    "\n",
    "Recall that Model A is built for 8 coders, but we have 6. We're going to *hack* it by adding two blank columns."
   ]
  },
  {
   "cell_type": "code",
   "execution_count": null,
   "metadata": {},
   "outputs": [],
   "source": [
    "dev.shape"
   ]
  },
  {
   "cell_type": "code",
   "execution_count": null,
   "metadata": {},
   "outputs": [],
   "source": [
    "negs2 = np.ones((21461, 2), dtype=np.int)*(-1)\n",
    "devA = np.concatenate((dev, negs2), axis=1)\n",
    "devA"
   ]
  },
  {
   "cell_type": "code",
   "execution_count": null,
   "metadata": {},
   "outputs": [],
   "source": [
    "anno_dvA = AnnotationsContainer.from_array(devA)\n",
    "model_devA = ModelA.create_initial_state(2)\n",
    "model_devA.theta"
   ]
  },
  {
   "cell_type": "code",
   "execution_count": null,
   "metadata": {},
   "outputs": [],
   "source": [
    "model_dvB = ModelB.create_initial_state(2, 6)\n",
    "print(model_dvB.pi)\n",
    "print(model_dvB.log_likelihood(anno_dv.annotations))"
   ]
  },
  {
   "cell_type": "code",
   "execution_count": null,
   "metadata": {},
   "outputs": [],
   "source": [
    "model_dvB.map(anno_dv.annotations)\n",
    "print(model_dvB.pi)\n",
    "print(model_dvB.log_likelihood(anno_dv.annotations))"
   ]
  },
  {
   "cell_type": "code",
   "execution_count": null,
   "metadata": {},
   "outputs": [],
   "source": [
    "# compute the posterior distribution over true annotations\n",
    "posterior_dvB = model_dvB.infer_labels(anno_dv.annotations)\n",
    "# each row show the probability of each label class for the\n",
    "# corresponding item\n",
    "print(posterior)"
   ]
  },
  {
   "cell_type": "code",
   "execution_count": null,
   "metadata": {},
   "outputs": [],
   "source": [
    "samples_dvB = model_dvB.sample_posterior_over_accuracy(anno_dv.annotations, 200, burn_in_samples=100, thin_samples=3)"
   ]
  },
  {
   "cell_type": "code",
   "execution_count": null,
   "metadata": {},
   "outputs": [],
   "source": [
    "# we can then compute a credible interval for the parameters:\n",
    "ci_dv_mean = samples_dvB[0].mean(axis=0)\n",
    "print(\"Mean\")\n",
    "print(ci_dv_mean)\n",
    "\n",
    "ci_dv_stdev = samples_dvB[0].std(axis=0)\n",
    "print(\"\\nSTD\")\n",
    "print(ci_dv_stdev)\n"
   ]
  },
  {
   "cell_type": "markdown",
   "metadata": {},
   "source": [
    "We will use Model B estimates for other variable assessments."
   ]
  },
  {
   "cell_type": "code",
   "execution_count": null,
   "metadata": {},
   "outputs": [],
   "source": [
    "#test\n",
    "model_testB = ModelB.create_initial_state(2, 6)\n",
    "print(model_testB.log_likelihood(anno_test.annotations))\n",
    "model_testB.map(anno_test.annotations)\n",
    "print(model_testB.pi)\n",
    "print(model_testB.log_likelihood(anno_test.annotations))\n",
    "print(anno_test.annotations.shape)\n",
    "posterior_testB = model_testB.infer_labels(anno_test.annotations)\n",
    "print(posterior_testB.shape)\n",
    "samples_testB = model_testB.sample_posterior_over_accuracy(anno_test.annotations, 200, burn_in_samples=100, thin_samples=3)\n",
    "ci_test_mean = samples_testB[0].mean(axis=0)\n",
    "print(ci_test_mean)"
   ]
  },
  {
   "cell_type": "code",
   "execution_count": null,
   "metadata": {},
   "outputs": [],
   "source": [
    "#indepedent variables\n",
    "model_ivB = ModelB.create_initial_state(2, 6)\n",
    "print(model_ivB.log_likelihood(anno_iv.annotations))\n",
    "model_ivB.map(anno_iv.annotations)\n",
    "print(model_ivB.pi)\n",
    "print(model_ivB.log_likelihood(anno_iv.annotations))\n",
    "print(anno_iv.annotations.shape)\n",
    "posterior_ivB = model_ivB.infer_labels(anno_iv.annotations)\n",
    "print(posterior_ivB.shape)\n",
    "samples_ivB = model_ivB.sample_posterior_over_accuracy(anno_iv.annotations, 200, burn_in_samples=100, thin_samples=3)\n",
    "ci_iv_mean = samples_ivB[0].mean(axis=0)\n",
    "print(ci_iv_mean)\n",
    "\n",
    "#central variables\n",
    "model_cvB = ModelB.create_initial_state(2, 6)\n",
    "print(model_cvB.log_likelihood(anno_cv.annotations))\n",
    "model_cvB.map(anno_cv.annotations)\n",
    "print(model_cvB.pi)\n",
    "print(model_cvB.log_likelihood(anno_cv.annotations))\n",
    "print(anno_cv.annotations.shape)\n",
    "posterior_cvB = model_cvB.infer_labels(anno_cv.annotations)\n",
    "print(posterior_cvB.shape)\n",
    "samples_cvB = model_cvB.sample_posterior_over_accuracy(anno_cv.annotations, 200, burn_in_samples=100, thin_samples=3)\n",
    "ci_cv_mean = samples_cvB[0].mean(axis=0)\n",
    "print(ci_cv_mean)\n",
    "\n",
    "#control variables\n",
    "model_ctvB = ModelB.create_initial_state(2, 6)\n",
    "print(model_ctvB.log_likelihood(anno_ctv.annotations))\n",
    "model_ctvB.map(anno_ctv.annotations)\n",
    "print(model_ctvB.pi)\n",
    "print(model_ctvB.log_likelihood(anno_ctv.annotations))\n",
    "print(anno_ctv.annotations.shape)\n",
    "posterior_ctvB = model_ctvB.infer_labels(anno_ctv.annotations)\n",
    "print(posterior_ctvB.shape)\n",
    "samples_ctvB = model_ctvB.sample_posterior_over_accuracy(anno_iv.annotations, 200, burn_in_samples=100, thin_samples=3)\n",
    "ci_ctv_mean = samples_ctvB[0].mean(axis=0)\n",
    "print(ci_ctv_mean)"
   ]
  },
  {
   "cell_type": "markdown",
   "metadata": {},
   "source": [
    "Now we will package up the predicted data into a format we can use for other, subsequent analysis:"
   ]
  },
  {
   "cell_type": "code",
   "execution_count": null,
   "metadata": {},
   "outputs": [],
   "source": [
    "print(posterior_dvB.shape)\n",
    "print(posterior_ivB.shape)\n",
    "print(posterior_cvB.shape)\n",
    "print(posterior_ctvB.shape)"
   ]
  },
  {
   "cell_type": "code",
   "execution_count": null,
   "metadata": {},
   "outputs": [],
   "source": [
    "predicted_annotations = np.concatenate((posterior_dvB, posterior_ivB, posterior_cvB, posterior_ctvB), axis=1) # posterior_dvBt, posterior_ivBt, posterior_cvBt, posterior_ctvBt), axis=1)"
   ]
  },
  {
   "cell_type": "code",
   "execution_count": null,
   "metadata": {},
   "outputs": [],
   "source": [
    "predicted_annotations.shape"
   ]
  },
  {
   "cell_type": "markdown",
   "metadata": {},
   "source": [
    "These annotations allowed us to uncover the degree to which social scientists alter their models to achieve a better fit...undocumented data mining. The answer was that social scientists did mine their data, but that it likely improved their analysis because change in the social world was the result of greater distortion than undocumented data mining."
   ]
  },
  {
   "cell_type": "markdown",
   "metadata": {},
   "source": [
    "## Another example analysis looks at a different data set of Hotel Reviews by a variety of patrons."
   ]
  },
  {
   "cell_type": "code",
   "execution_count": null,
   "metadata": {},
   "outputs": [],
   "source": [
    "df_hotels = pandas.read_csv('../data/hot_Reviews.csv', index_col=0)\n",
    "df_hotels[:5]"
   ]
  },
  {
   "cell_type": "markdown",
   "metadata": {},
   "source": [
    "Here a rank of 0 is a missing value and to simplify things more we will convert from a 1-10 scale to a 1-5 scale, with 0 as missing"
   ]
  },
  {
   "cell_type": "code",
   "execution_count": null,
   "metadata": {},
   "outputs": [],
   "source": [
    "df_hotels = df_hotels.apply(lambda x: x // 2) #integer divide by 2 rounds all values"
   ]
  },
  {
   "cell_type": "markdown",
   "metadata": {},
   "source": [
    "And we can visualize all the reviews as a heatmap with the missing values greyed out"
   ]
  },
  {
   "cell_type": "code",
   "execution_count": null,
   "metadata": {},
   "outputs": [],
   "source": [
    "fig, ax = plt.subplots(figsize = (20,20))\n",
    "seaborn.heatmap(df_hotels, cmap='rainbow', ax = ax)\n",
    "plt.show()"
   ]
  },
  {
   "cell_type": "markdown",
   "metadata": {},
   "source": [
    "To give the dataframe to pyanno we need to convert to np array and change the nans to intergers, lets use -1"
   ]
  },
  {
   "cell_type": "code",
   "execution_count": null,
   "metadata": {},
   "outputs": [],
   "source": [
    "hot_mat = np.array(df_hotels.fillna(-1).as_matrix())\n",
    "anno_hot = AnnotationsContainer.from_array(hot_mat, missing_values=[-1])"
   ]
  },
  {
   "cell_type": "code",
   "execution_count": null,
   "metadata": {},
   "outputs": [],
   "source": [
    "anno_hot.annotations"
   ]
  },
  {
   "cell_type": "code",
   "execution_count": null,
   "metadata": {},
   "outputs": [],
   "source": [
    "anno_hot.labels"
   ]
  },
  {
   "cell_type": "code",
   "execution_count": null,
   "metadata": {},
   "outputs": [],
   "source": [
    "anno_hot.missing_values"
   ]
  },
  {
   "cell_type": "markdown",
   "metadata": {},
   "source": [
    "Look at coder agreement"
   ]
  },
  {
   "cell_type": "code",
   "execution_count": null,
   "metadata": {},
   "outputs": [],
   "source": [
    "pyanno.measures.agreement.labels_frequency(anno_hot.annotations, 6)#6 possible catagories"
   ]
  },
  {
   "cell_type": "code",
   "execution_count": null,
   "metadata": {},
   "outputs": [],
   "source": [
    "c = pyanno.measures.agreement.confusion_matrix(anno_hot.annotations[:,0], anno_hot.annotations[:,1], 6) #6 possible catagories\n",
    "print(c)\n",
    "ac = seaborn.heatmap(c)\n",
    "plt.show()"
   ]
  },
  {
   "cell_type": "markdown",
   "metadata": {},
   "source": [
    "Most agreement is on 2 i.e. an average hotel and there's little agreement as rating go higher, likely due to scarcity in the sample"
   ]
  },
  {
   "cell_type": "code",
   "execution_count": null,
   "metadata": {},
   "outputs": [],
   "source": [
    "scotts_pi(anno_hot.annotations[:,0], anno_hot.annotations[:,1])"
   ]
  },
  {
   "cell_type": "code",
   "execution_count": null,
   "metadata": {},
   "outputs": [],
   "source": [
    "krippendorffs_alpha(anno_hot.annotations[::])"
   ]
  },
  {
   "cell_type": "code",
   "execution_count": null,
   "metadata": {},
   "outputs": [],
   "source": [
    "cohens_kappa(anno_hot.annotations[:,0], anno_hot.annotations[:,1])"
   ]
  },
  {
   "cell_type": "code",
   "execution_count": null,
   "metadata": {},
   "outputs": [],
   "source": [
    "m = pairwise_matrix(cohens_kappa, anno_hot.annotations)\n",
    "fig, ax = plt.subplots(figsize = (15, 15))\n",
    "seaborn.heatmap(m, ax =ax)"
   ]
  },
  {
   "cell_type": "code",
   "execution_count": null,
   "metadata": {},
   "outputs": [],
   "source": [
    "# model_hot = ModelBt.create_initial_state(5, 49)\n",
    "# model_hot.mle(anno_hot.annotations)\n",
    "#print(model.theta)\n",
    "# print(model_hot.log_likelihood(anno_hot.annotations))"
   ]
  },
  {
   "cell_type": "code",
   "execution_count": null,
   "metadata": {},
   "outputs": [],
   "source": [
    "# def makeQuestionComparison(model, anno_target, num_questions = 20):\n",
    "#     votes = []\n",
    "#     for r in anno_target.annotations:\n",
    "#         v = [0] * len(anno_target.labels)\n",
    "#         votes.append(v)\n",
    "#         for a in r:\n",
    "#             if a > -1:\n",
    "#                 v[a] += 1\n",
    "#     votes_array = np.array(votes)\n",
    "#     posterior = model.infer_labels(anno_target.annotations)\n",
    "#     fig, (ax1, ax2) = plt.subplots(ncols=2, figsize = (15, 10), sharey=True)\n",
    "\n",
    "#     seaborn.heatmap(votes_array[:num_questions], annot = True, ax=ax2)\n",
    "#     seaborn.heatmap(np.nan_to_num(posterior,0)[:num_questions], annot=True, ax =ax1)\n",
    "#     ax1.set_title(\"Model\")\n",
    "#     ax2.set_title(\"Votes\")\n",
    "#     return fig, (ax1, ax2)"
   ]
  },
  {
   "cell_type": "code",
   "execution_count": null,
   "metadata": {},
   "outputs": [],
   "source": [
    "# makeQuestionComparison(model_hot, anno_hot)"
   ]
  },
  {
   "cell_type": "markdown",
   "metadata": {},
   "source": [
    "## <span style=\"color:red\">*Your turn*</span>\n",
    "\n",
    "<span style=\"color:red\">In the cells immediately following, use the results of your content annotation survey to predict high and low-quality analysts, then predict MAP estimates for your codes in question. What do these estimates suggest about the distribution of skill among your coders? How different are these estimates from a majority vote?"
   ]
  },
  {
   "cell_type": "code",
   "execution_count": 18,
   "metadata": {},
   "outputs": [],
   "source": [
    "model = ModelBt.create_initial_state(10,3)\n",
    "model.mle(response.annotations)\n",
    "samples = model.sample_posterior_over_accuracy(response.annotations, 200, burn_in_samples=100, thin_samples=3)\n",
    "y =  samples.mean(axis=0)#.mean(axis = 1).mean(axis = 1)\n",
    "y_ci = samples.std(axis=0)#.mean(axis = 1).mean(axis = 1)"
   ]
  },
  {
   "cell_type": "code",
   "execution_count": 19,
   "metadata": {},
   "outputs": [
    {
     "name": "stdout",
     "output_type": "stream",
     "text": [
      "[[[5.67535150e-01 2.12301104e-01 5.95317421e-02 4.85319572e-02\n",
      "   2.64460195e-04 6.41566376e-02 1.25560436e-02 2.68189281e-03\n",
      "   4.35867862e-03 2.80823330e-02]\n",
      "  [5.41090454e-02 6.08571420e-01 1.61383745e-01 6.89902780e-02\n",
      "   7.08731496e-03 1.00374523e-03 9.04251756e-02 3.95306036e-04\n",
      "   4.79976303e-04 7.55399297e-03]\n",
      "  [5.46289223e-02 2.90912274e-01 4.04578957e-01 1.24701080e-01\n",
      "   1.28710245e-02 4.98015687e-02 4.67427958e-03 2.69625675e-02\n",
      "   2.72298266e-02 3.63949949e-03]\n",
      "  [7.71628100e-04 2.54484910e-02 3.43601817e-01 4.75769137e-01\n",
      "   1.08199765e-01 2.12181953e-02 2.17034303e-03 1.27632993e-02\n",
      "   6.54748010e-03 3.50984414e-03]\n",
      "  [2.30380396e-03 1.51950186e-02 1.12569937e-01 1.11649229e-01\n",
      "   5.81791599e-01 9.40218672e-02 5.29764474e-02 2.28593995e-02\n",
      "   5.93111109e-03 7.01587189e-04]\n",
      "  [1.59706785e-02 1.25717913e-01 1.87518758e-02 5.29340794e-02\n",
      "   1.38014162e-01 4.00570453e-01 1.09913961e-01 2.66048094e-02\n",
      "   9.81217286e-02 1.34003387e-02]\n",
      "  [4.02913506e-02 3.42119693e-03 6.32839288e-03 1.79882225e-02\n",
      "   6.60224172e-02 7.54434830e-02 5.40789065e-01 1.23143735e-01\n",
      "   1.03588577e-01 2.29835607e-02]\n",
      "  [9.23501245e-03 6.73602938e-02 2.84821220e-02 6.06601949e-02\n",
      "   6.75364597e-03 9.03954865e-02 1.13087445e-01 4.51215885e-01\n",
      "   1.63902286e-01 8.90762796e-03]\n",
      "  [1.70996551e-02 4.44982769e-02 1.93883841e-02 2.12836557e-02\n",
      "   4.41408955e-02 1.35691037e-01 4.53364352e-02 9.33678615e-02\n",
      "   3.67521078e-01 2.11672721e-01]\n",
      "  [3.38817429e-02 2.53105908e-02 3.04320564e-02 3.12139565e-03\n",
      "   4.71463372e-02 6.97217327e-02 1.94924068e-01 5.85692577e-02\n",
      "   5.65090456e-02 4.80383773e-01]]\n",
      "\n",
      " [[6.31022089e-01 7.51938288e-02 1.07092902e-02 1.00049093e-01\n",
      "   5.06387134e-02 6.56085471e-02 5.91880166e-04 1.59435496e-03\n",
      "   2.86516039e-02 3.59405994e-02]\n",
      "  [1.55184890e-01 4.15004394e-01 1.79541429e-01 1.20444650e-01\n",
      "   1.66431616e-02 4.45301527e-02 2.09762758e-02 2.08397752e-03\n",
      "   2.81371228e-02 1.74539471e-02]\n",
      "  [5.65846407e-02 7.81312885e-02 4.22886310e-01 1.21967794e-01\n",
      "   7.90532464e-02 5.02829463e-03 1.02473108e-02 7.52686628e-02\n",
      "   1.83657038e-03 1.48995882e-01]\n",
      "  [8.13858483e-03 6.31608505e-02 8.20712726e-02 6.04736184e-01\n",
      "   1.00455522e-01 3.85058159e-02 2.82756560e-02 6.96760263e-02\n",
      "   3.69298415e-05 4.94315796e-03]\n",
      "  [1.38608431e-01 6.02888253e-03 4.07468987e-02 2.73156042e-02\n",
      "   5.96003745e-01 9.49660884e-02 5.57516892e-02 6.18802141e-03\n",
      "   3.67945356e-03 3.07111860e-02]\n",
      "  [6.77692394e-02 1.20857204e-02 4.01663194e-02 9.03415474e-02\n",
      "   1.29631577e-01 4.76543042e-01 7.50138810e-02 6.30207206e-02\n",
      "   8.14319642e-03 3.72847562e-02]\n",
      "  [2.50841109e-03 3.18109930e-04 1.94331450e-02 5.43767481e-02\n",
      "   1.26807945e-01 7.76925654e-02 5.00878172e-01 8.10029032e-02\n",
      "   8.36551956e-02 5.33268046e-02]\n",
      "  [2.95413191e-02 1.69392533e-03 1.97864454e-02 5.48841174e-02\n",
      "   8.95116571e-02 5.23955996e-02 1.84622990e-01 4.21646955e-01\n",
      "   5.87257343e-02 8.71912574e-02]\n",
      "  [1.33102254e-02 3.37208969e-02 7.48198466e-02 1.89762365e-02\n",
      "   2.44964700e-03 7.11864338e-02 8.53903531e-02 8.89869476e-02\n",
      "   5.22631519e-01 8.85278937e-02]\n",
      "  [6.07881754e-02 5.60682194e-02 8.14757395e-02 9.57849941e-04\n",
      "   2.70906675e-02 9.46751185e-03 1.57965523e-02 1.96510815e-02\n",
      "   2.23761843e-01 5.04942360e-01]]\n",
      "\n",
      " [[4.41396016e-01 1.81080472e-01 1.50897945e-01 3.27598061e-02\n",
      "   1.31623439e-01 1.82485949e-02 6.85729209e-03 9.04588754e-03\n",
      "   1.23002316e-02 1.57903156e-02]\n",
      "  [1.59622218e-01 5.47567619e-01 7.32298882e-02 4.05250886e-02\n",
      "   5.86631086e-02 1.76899278e-02 1.41561579e-02 1.34585179e-02\n",
      "   4.46151048e-02 3.04723690e-02]\n",
      "  [8.91882421e-03 6.56230562e-02 4.71599057e-01 2.43477225e-01\n",
      "   6.92942000e-03 3.17522081e-02 4.84613918e-03 4.00588192e-02\n",
      "   1.16182138e-01 1.06131128e-02]\n",
      "  [7.59673234e-02 4.12290152e-02 2.17726108e-02 5.91905315e-01\n",
      "   1.55188749e-01 6.60327402e-02 1.13658595e-02 1.45116822e-02\n",
      "   1.31176857e-02 8.90901849e-03]\n",
      "  [3.10940896e-02 5.44087969e-03 7.88486009e-02 3.86176634e-02\n",
      "   5.01510554e-01 1.92842096e-01 5.36803323e-02 2.03709782e-02\n",
      "   3.41674143e-02 4.34273914e-02]\n",
      "  [3.94519755e-03 2.82757652e-02 1.87034943e-02 7.37268803e-02\n",
      "   9.36275167e-02 4.36888336e-01 1.48223553e-01 2.88131144e-02\n",
      "   3.17397281e-02 1.36056415e-01]\n",
      "  [1.50452895e-02 1.97685344e-02 2.45152323e-04 1.21605851e-01\n",
      "   2.70401336e-02 1.64145812e-01 3.91192920e-01 1.70984418e-01\n",
      "   5.80776821e-02 3.18942060e-02]\n",
      "  [2.02320459e-02 1.73380109e-02 6.57608521e-03 2.38574732e-02\n",
      "   1.58152168e-01 6.85136470e-02 1.12343682e-01 4.16105189e-01\n",
      "   1.06649332e-01 7.02323661e-02]\n",
      "  [1.78124712e-02 7.90533749e-02 4.11442130e-02 3.88001167e-02\n",
      "   2.90099420e-03 1.05468804e-02 3.21622468e-02 1.53278075e-01\n",
      "   5.90623722e-01 3.36779060e-02]\n",
      "  [5.93532164e-03 9.03446996e-02 2.33594298e-02 1.91319848e-02\n",
      "   5.99372936e-02 1.44741910e-02 1.14569629e-02 1.29009042e-01\n",
      "   1.16225964e-01 5.30125110e-01]]]\n",
      "-56.792110678108095\n"
     ]
    }
   ],
   "source": [
    "# create a new instance of model A, with 4 label classes\n",
    "model = ModelB.create_initial_state(10, 3)\n",
    "# other model parameters are initialized from the model prior\n",
    "print(model.theta)\n",
    "print(model.log_likelihood(response.annotations))"
   ]
  },
  {
   "cell_type": "code",
   "execution_count": 20,
   "metadata": {},
   "outputs": [],
   "source": [
    "samples = model.sample_posterior_over_accuracy(response.annotations, 200, burn_in_samples=100, thin_samples=3)"
   ]
  },
  {
   "cell_type": "code",
   "execution_count": 22,
   "metadata": {},
   "outputs": [
    {
     "name": "stdout",
     "output_type": "stream",
     "text": [
      "[[[8.05604395e-01 1.45950780e-01 4.84448254e-02 0.00000000e+00\n",
      "   0.00000000e+00 0.00000000e+00 0.00000000e+00 0.00000000e+00\n",
      "   0.00000000e+00 0.00000000e+00]\n",
      "  [1.61275031e-01 6.87126874e-01 1.13780902e-01 3.78171933e-02\n",
      "   0.00000000e+00 0.00000000e+00 0.00000000e+00 0.00000000e+00\n",
      "   0.00000000e+00 0.00000000e+00]\n",
      "  [4.30762185e-02 1.47074858e-01 6.42148887e-01 1.27380139e-01\n",
      "   4.03198984e-02 0.00000000e+00 0.00000000e+00 0.00000000e+00\n",
      "   0.00000000e+00 0.00000000e+00]\n",
      "  [1.03102132e-65 4.05617256e-02 1.62316038e-01 6.36346600e-01\n",
      "   1.20581727e-01 4.01939090e-02 0.00000000e+00 0.00000000e+00\n",
      "   0.00000000e+00 0.00000000e+00]\n",
      "  [0.00000000e+00 0.00000000e+00 4.34782609e-02 1.30434783e-01\n",
      "   6.52173913e-01 1.30434783e-01 4.34782609e-02 0.00000000e+00\n",
      "   0.00000000e+00 0.00000000e+00]\n",
      "  [0.00000000e+00 0.00000000e+00 0.00000000e+00 4.34782609e-02\n",
      "   1.30434783e-01 6.52173913e-01 1.30434783e-01 4.34782609e-02\n",
      "   0.00000000e+00 0.00000000e+00]\n",
      "  [0.00000000e+00 0.00000000e+00 0.00000000e+00 0.00000000e+00\n",
      "   4.34782609e-02 1.30434783e-01 6.52173913e-01 1.30434783e-01\n",
      "   4.34782609e-02 0.00000000e+00]\n",
      "  [0.00000000e+00 0.00000000e+00 0.00000000e+00 0.00000000e+00\n",
      "   0.00000000e+00 4.34782609e-02 1.30434783e-01 6.52173913e-01\n",
      "   1.30434783e-01 4.34782609e-02]\n",
      "  [0.00000000e+00 0.00000000e+00 0.00000000e+00 0.00000000e+00\n",
      "   0.00000000e+00 0.00000000e+00 4.54545455e-02 1.36363636e-01\n",
      "   6.81818182e-01 1.36363636e-01]\n",
      "  [0.00000000e+00 0.00000000e+00 0.00000000e+00 0.00000000e+00\n",
      "   0.00000000e+00 0.00000000e+00 0.00000000e+00 5.26315789e-02\n",
      "   1.57894737e-01 7.89473684e-01]]\n",
      "\n",
      " [[7.61680969e-01 1.82463406e-01 5.58556250e-02 4.34010726e-80\n",
      "   0.00000000e+00 0.00000000e+00 0.00000000e+00 0.00000000e+00\n",
      "   0.00000000e+00 0.00000000e+00]\n",
      "  [1.58915946e-01 6.42119829e-01 1.59822894e-01 3.91413314e-02\n",
      "   0.00000000e+00 0.00000000e+00 0.00000000e+00 0.00000000e+00\n",
      "   0.00000000e+00 0.00000000e+00]\n",
      "  [4.18505821e-02 1.25054121e-01 6.28044849e-01 1.64730549e-01\n",
      "   4.03198984e-02 0.00000000e+00 0.00000000e+00 0.00000000e+00\n",
      "   0.00000000e+00 0.00000000e+00]\n",
      "  [7.87867495e-36 4.02845827e-02 1.20858870e-01 6.78080911e-01\n",
      "   1.20581727e-01 4.01939090e-02 0.00000000e+00 0.00000000e+00\n",
      "   0.00000000e+00 0.00000000e+00]\n",
      "  [0.00000000e+00 0.00000000e+00 4.34782609e-02 1.30434783e-01\n",
      "   6.52173913e-01 1.30434783e-01 4.34782609e-02 0.00000000e+00\n",
      "   0.00000000e+00 0.00000000e+00]\n",
      "  [0.00000000e+00 0.00000000e+00 0.00000000e+00 4.34782609e-02\n",
      "   1.30434783e-01 6.52173913e-01 1.30434783e-01 4.34782609e-02\n",
      "   0.00000000e+00 0.00000000e+00]\n",
      "  [0.00000000e+00 0.00000000e+00 0.00000000e+00 0.00000000e+00\n",
      "   4.34782609e-02 1.30434783e-01 6.52173913e-01 1.30434783e-01\n",
      "   4.34782609e-02 0.00000000e+00]\n",
      "  [0.00000000e+00 0.00000000e+00 0.00000000e+00 0.00000000e+00\n",
      "   0.00000000e+00 4.34782609e-02 1.30434783e-01 6.52173913e-01\n",
      "   1.30434783e-01 4.34782609e-02]\n",
      "  [0.00000000e+00 0.00000000e+00 0.00000000e+00 0.00000000e+00\n",
      "   0.00000000e+00 0.00000000e+00 4.54545455e-02 1.36363636e-01\n",
      "   6.81818182e-01 1.36363636e-01]\n",
      "  [0.00000000e+00 0.00000000e+00 0.00000000e+00 0.00000000e+00\n",
      "   0.00000000e+00 0.00000000e+00 0.00000000e+00 5.26315789e-02\n",
      "   1.57894737e-01 7.89473684e-01]]\n",
      "\n",
      " [[7.63331523e-01 1.87607348e-01 4.90611290e-02 5.27513484e-18\n",
      "   0.00000000e+00 0.00000000e+00 0.00000000e+00 0.00000000e+00\n",
      "   0.00000000e+00 0.00000000e+00]\n",
      "  [1.21515914e-01 6.02042936e-01 2.02469262e-01 7.39718875e-02\n",
      "   0.00000000e+00 0.00000000e+00 0.00000000e+00 0.00000000e+00\n",
      "   0.00000000e+00 0.00000000e+00]\n",
      "  [4.03848261e-02 1.23651088e-01 6.66940697e-01 1.28703491e-01\n",
      "   4.03198984e-02 0.00000000e+00 0.00000000e+00 0.00000000e+00\n",
      "   0.00000000e+00 0.00000000e+00]\n",
      "  [0.00000000e+00 4.01939090e-02 1.62576021e-01 6.36454433e-01\n",
      "   1.20581727e-01 4.01939090e-02 0.00000000e+00 0.00000000e+00\n",
      "   0.00000000e+00 0.00000000e+00]\n",
      "  [0.00000000e+00 0.00000000e+00 4.34782609e-02 1.30434783e-01\n",
      "   6.52173913e-01 1.30434783e-01 4.34782609e-02 0.00000000e+00\n",
      "   0.00000000e+00 0.00000000e+00]\n",
      "  [0.00000000e+00 0.00000000e+00 0.00000000e+00 4.34782609e-02\n",
      "   1.30434783e-01 6.52173913e-01 1.30434783e-01 4.34782609e-02\n",
      "   0.00000000e+00 0.00000000e+00]\n",
      "  [0.00000000e+00 0.00000000e+00 0.00000000e+00 0.00000000e+00\n",
      "   4.34782609e-02 1.30434783e-01 6.52173913e-01 1.30434783e-01\n",
      "   4.34782609e-02 0.00000000e+00]\n",
      "  [0.00000000e+00 0.00000000e+00 0.00000000e+00 0.00000000e+00\n",
      "   0.00000000e+00 4.34782609e-02 1.30434783e-01 6.52173913e-01\n",
      "   1.30434783e-01 4.34782609e-02]\n",
      "  [0.00000000e+00 0.00000000e+00 0.00000000e+00 0.00000000e+00\n",
      "   0.00000000e+00 0.00000000e+00 4.54545455e-02 1.36363636e-01\n",
      "   6.81818182e-01 1.36363636e-01]\n",
      "  [0.00000000e+00 0.00000000e+00 0.00000000e+00 0.00000000e+00\n",
      "   0.00000000e+00 0.00000000e+00 0.00000000e+00 5.26315789e-02\n",
      "   1.57894737e-01 7.89473684e-01]]]\n",
      "-40.048320446820725\n"
     ]
    },
    {
     "name": "stderr",
     "output_type": "stream",
     "text": [
      "/anaconda3/lib/python3.7/site-packages/pyanno/util.py:80: RuntimeWarning: divide by zero encountered in log\n",
      "  log_theta = ninf_to_num(log(theta))\n"
     ]
    }
   ],
   "source": [
    "#using MAP\n",
    "model.map(response.annotations)\n",
    "print(model.theta)\n",
    "print(model.log_likelihood(response.annotations))"
   ]
  },
  {
   "cell_type": "code",
   "execution_count": 33,
   "metadata": {},
   "outputs": [
    {
     "name": "stdout",
     "output_type": "stream",
     "text": [
      "[[[8.05604395e-01 1.45950780e-01 4.84448254e-02 0.00000000e+00\n",
      "   0.00000000e+00 0.00000000e+00 0.00000000e+00 0.00000000e+00\n",
      "   0.00000000e+00 0.00000000e+00]\n",
      "  [1.61275031e-01 6.87126874e-01 1.13780902e-01 3.78171933e-02\n",
      "   0.00000000e+00 0.00000000e+00 0.00000000e+00 0.00000000e+00\n",
      "   0.00000000e+00 0.00000000e+00]\n",
      "  [4.30762185e-02 1.47074858e-01 6.42148887e-01 1.27380139e-01\n",
      "   4.03198984e-02 0.00000000e+00 0.00000000e+00 0.00000000e+00\n",
      "   0.00000000e+00 0.00000000e+00]\n",
      "  [1.03102132e-65 4.05617256e-02 1.62316038e-01 6.36346600e-01\n",
      "   1.20581727e-01 4.01939090e-02 0.00000000e+00 0.00000000e+00\n",
      "   0.00000000e+00 0.00000000e+00]\n",
      "  [0.00000000e+00 0.00000000e+00 4.34782609e-02 1.30434783e-01\n",
      "   6.52173913e-01 1.30434783e-01 4.34782609e-02 0.00000000e+00\n",
      "   0.00000000e+00 0.00000000e+00]\n",
      "  [0.00000000e+00 0.00000000e+00 0.00000000e+00 4.34782609e-02\n",
      "   1.30434783e-01 6.52173913e-01 1.30434783e-01 4.34782609e-02\n",
      "   0.00000000e+00 0.00000000e+00]\n",
      "  [0.00000000e+00 0.00000000e+00 0.00000000e+00 0.00000000e+00\n",
      "   4.34782609e-02 1.30434783e-01 6.52173913e-01 1.30434783e-01\n",
      "   4.34782609e-02 0.00000000e+00]\n",
      "  [0.00000000e+00 0.00000000e+00 0.00000000e+00 0.00000000e+00\n",
      "   0.00000000e+00 4.34782609e-02 1.30434783e-01 6.52173913e-01\n",
      "   1.30434783e-01 4.34782609e-02]\n",
      "  [0.00000000e+00 0.00000000e+00 0.00000000e+00 0.00000000e+00\n",
      "   0.00000000e+00 0.00000000e+00 4.54545455e-02 1.36363636e-01\n",
      "   6.81818182e-01 1.36363636e-01]\n",
      "  [0.00000000e+00 0.00000000e+00 0.00000000e+00 0.00000000e+00\n",
      "   0.00000000e+00 0.00000000e+00 0.00000000e+00 5.26315789e-02\n",
      "   1.57894737e-01 7.89473684e-01]]\n",
      "\n",
      " [[7.61680969e-01 1.82463406e-01 5.58556250e-02 4.34010726e-80\n",
      "   0.00000000e+00 0.00000000e+00 0.00000000e+00 0.00000000e+00\n",
      "   0.00000000e+00 0.00000000e+00]\n",
      "  [1.58915946e-01 6.42119829e-01 1.59822894e-01 3.91413314e-02\n",
      "   0.00000000e+00 0.00000000e+00 0.00000000e+00 0.00000000e+00\n",
      "   0.00000000e+00 0.00000000e+00]\n",
      "  [4.18505821e-02 1.25054121e-01 6.28044849e-01 1.64730549e-01\n",
      "   4.03198984e-02 0.00000000e+00 0.00000000e+00 0.00000000e+00\n",
      "   0.00000000e+00 0.00000000e+00]\n",
      "  [7.87867495e-36 4.02845827e-02 1.20858870e-01 6.78080911e-01\n",
      "   1.20581727e-01 4.01939090e-02 0.00000000e+00 0.00000000e+00\n",
      "   0.00000000e+00 0.00000000e+00]\n",
      "  [0.00000000e+00 0.00000000e+00 4.34782609e-02 1.30434783e-01\n",
      "   6.52173913e-01 1.30434783e-01 4.34782609e-02 0.00000000e+00\n",
      "   0.00000000e+00 0.00000000e+00]\n",
      "  [0.00000000e+00 0.00000000e+00 0.00000000e+00 4.34782609e-02\n",
      "   1.30434783e-01 6.52173913e-01 1.30434783e-01 4.34782609e-02\n",
      "   0.00000000e+00 0.00000000e+00]\n",
      "  [0.00000000e+00 0.00000000e+00 0.00000000e+00 0.00000000e+00\n",
      "   4.34782609e-02 1.30434783e-01 6.52173913e-01 1.30434783e-01\n",
      "   4.34782609e-02 0.00000000e+00]\n",
      "  [0.00000000e+00 0.00000000e+00 0.00000000e+00 0.00000000e+00\n",
      "   0.00000000e+00 4.34782609e-02 1.30434783e-01 6.52173913e-01\n",
      "   1.30434783e-01 4.34782609e-02]\n",
      "  [0.00000000e+00 0.00000000e+00 0.00000000e+00 0.00000000e+00\n",
      "   0.00000000e+00 0.00000000e+00 4.54545455e-02 1.36363636e-01\n",
      "   6.81818182e-01 1.36363636e-01]\n",
      "  [0.00000000e+00 0.00000000e+00 0.00000000e+00 0.00000000e+00\n",
      "   0.00000000e+00 0.00000000e+00 0.00000000e+00 5.26315789e-02\n",
      "   1.57894737e-01 7.89473684e-01]]\n",
      "\n",
      " [[7.63331523e-01 1.87607348e-01 4.90611290e-02 5.27513484e-18\n",
      "   0.00000000e+00 0.00000000e+00 0.00000000e+00 0.00000000e+00\n",
      "   0.00000000e+00 0.00000000e+00]\n",
      "  [1.21515914e-01 6.02042936e-01 2.02469262e-01 7.39718875e-02\n",
      "   0.00000000e+00 0.00000000e+00 0.00000000e+00 0.00000000e+00\n",
      "   0.00000000e+00 0.00000000e+00]\n",
      "  [4.03848261e-02 1.23651088e-01 6.66940697e-01 1.28703491e-01\n",
      "   4.03198984e-02 0.00000000e+00 0.00000000e+00 0.00000000e+00\n",
      "   0.00000000e+00 0.00000000e+00]\n",
      "  [0.00000000e+00 4.01939090e-02 1.62576021e-01 6.36454433e-01\n",
      "   1.20581727e-01 4.01939090e-02 0.00000000e+00 0.00000000e+00\n",
      "   0.00000000e+00 0.00000000e+00]\n",
      "  [0.00000000e+00 0.00000000e+00 4.34782609e-02 1.30434783e-01\n",
      "   6.52173913e-01 1.30434783e-01 4.34782609e-02 0.00000000e+00\n",
      "   0.00000000e+00 0.00000000e+00]\n",
      "  [0.00000000e+00 0.00000000e+00 0.00000000e+00 4.34782609e-02\n",
      "   1.30434783e-01 6.52173913e-01 1.30434783e-01 4.34782609e-02\n",
      "   0.00000000e+00 0.00000000e+00]\n",
      "  [0.00000000e+00 0.00000000e+00 0.00000000e+00 0.00000000e+00\n",
      "   4.34782609e-02 1.30434783e-01 6.52173913e-01 1.30434783e-01\n",
      "   4.34782609e-02 0.00000000e+00]\n",
      "  [0.00000000e+00 0.00000000e+00 0.00000000e+00 0.00000000e+00\n",
      "   0.00000000e+00 4.34782609e-02 1.30434783e-01 6.52173913e-01\n",
      "   1.30434783e-01 4.34782609e-02]\n",
      "  [0.00000000e+00 0.00000000e+00 0.00000000e+00 0.00000000e+00\n",
      "   0.00000000e+00 0.00000000e+00 4.54545455e-02 1.36363636e-01\n",
      "   6.81818182e-01 1.36363636e-01]\n",
      "  [0.00000000e+00 0.00000000e+00 0.00000000e+00 0.00000000e+00\n",
      "   0.00000000e+00 0.00000000e+00 0.00000000e+00 5.26315789e-02\n",
      "   1.57894737e-01 7.89473684e-01]]]\n",
      "-40.048320446820725\n"
     ]
    }
   ],
   "source": [
    "model = ModelB.create_initial_state(10, 3)\n",
    "model.map(response.annotations)\n",
    "print(model.theta)\n",
    "print(model.log_likelihood(response.annotations))"
   ]
  },
  {
   "cell_type": "code",
   "execution_count": 24,
   "metadata": {},
   "outputs": [
    {
     "name": "stdout",
     "output_type": "stream",
     "text": [
      "[[2.45617974e-017 9.63594744e-001 3.64052564e-002 9.75029229e-036\n",
      "  0.00000000e+000 0.00000000e+000 0.00000000e+000 0.00000000e+000\n",
      "  0.00000000e+000 0.00000000e+000]\n",
      " [4.84777914e-003 9.44085792e-001 4.99382742e-002 1.12815438e-003\n",
      "  0.00000000e+000 0.00000000e+000 0.00000000e+000 0.00000000e+000\n",
      "  0.00000000e+000 0.00000000e+000]\n",
      " [1.02685527e-081 2.55660810e-002 7.70562220e-001 2.03871699e-001\n",
      "  1.02745341e-055 0.00000000e+000 0.00000000e+000 0.00000000e+000\n",
      "  0.00000000e+000 0.00000000e+000]\n",
      " [3.02456153e-003 4.78919841e-001 5.11157384e-001 6.89821382e-003\n",
      "  0.00000000e+000 0.00000000e+000 0.00000000e+000 0.00000000e+000\n",
      "  0.00000000e+000 0.00000000e+000]\n",
      " [7.56680461e-001 2.41709849e-001 1.60969016e-003 0.00000000e+000\n",
      "  0.00000000e+000 0.00000000e+000 0.00000000e+000 0.00000000e+000\n",
      "  0.00000000e+000 0.00000000e+000]\n",
      " [1.15471506e-097 9.76880244e-003 1.55517900e-001 8.34713297e-001\n",
      "  3.22368767e-055 0.00000000e+000 0.00000000e+000 0.00000000e+000\n",
      "  0.00000000e+000 0.00000000e+000]\n",
      " [1.49915089e-001 7.84904109e-001 6.51808023e-002 1.01799779e-066\n",
      "  0.00000000e+000 0.00000000e+000 0.00000000e+000 0.00000000e+000\n",
      "  0.00000000e+000 0.00000000e+000]\n",
      " [7.22602162e-001 2.75862591e-001 1.53524703e-003 2.34568241e-101\n",
      "  0.00000000e+000 0.00000000e+000 0.00000000e+000 0.00000000e+000\n",
      "  0.00000000e+000 0.00000000e+000]\n",
      " [4.84777914e-003 9.44085792e-001 4.99382742e-002 1.12815438e-003\n",
      "  0.00000000e+000 0.00000000e+000 0.00000000e+000 0.00000000e+000\n",
      "  0.00000000e+000 0.00000000e+000]\n",
      " [0.00000000e+000 8.84577515e-003 1.59120271e-001 8.32033954e-001\n",
      "  3.20874501e-055 0.00000000e+000 0.00000000e+000 0.00000000e+000\n",
      "  0.00000000e+000 0.00000000e+000]]\n"
     ]
    }
   ],
   "source": [
    "posterior = model.infer_labels(response.annotations)\n",
    "print(posterior)"
   ]
  },
  {
   "cell_type": "code",
   "execution_count": 51,
   "metadata": {},
   "outputs": [
    {
     "data": {
      "image/png": "[encoded data removed]",
      "text/plain": [
       "<Figure size 1080x720 with 4 Axes>"
      ]
     },
     "metadata": {
      "needs_background": "light"
     },
     "output_type": "display_data"
    }
   ],
   "source": [
    "votes = []\n",
    "for r in response.annotations:\n",
    "    v = [0] * len(response.labels)\n",
    "    votes.append(v)\n",
    "    for a in r:\n",
    "        if a > -1:\n",
    "            v[a] += 1\n",
    "votes_array = np.array(votes)\n",
    "\n",
    "\n",
    "fig, (ax1, ax2) = plt.subplots(ncols=2, figsize = (15, 10), sharey=True)\n",
    "num_questions = 10\n",
    "\n",
    "seaborn.heatmap(votes_array[:num_questions], annot = True, ax=ax2)\n",
    "seaborn.heatmap(posterior[:num_questions,:4], annot=True, ax =ax1)\n",
    "ax1.set_title(\"Model\")\n",
    "ax2.set_title(\"Votes\")\n",
    "plt.show()"
   ]
  },
  {
   "cell_type": "code",
   "execution_count": 34,
   "metadata": {},
   "outputs": [],
   "source": [
    "samples = model.sample_posterior_over_accuracy(response.annotations, 200, burn_in_samples=100, thin_samples=3)"
   ]
  },
  {
   "cell_type": "code",
   "execution_count": 35,
   "metadata": {},
   "outputs": [
    {
     "name": "stdout",
     "output_type": "stream",
     "text": [
      "[[[0.56899094 0.14473462 0.06301366 0.03156975 0.0327126  0.03248938\n",
      "   0.03100588 0.03182914 0.031891   0.03176303]\n",
      "  [0.14684285 0.51439765 0.11705496 0.05395298 0.02726181 0.02854789\n",
      "   0.02657455 0.02820827 0.02572201 0.03143702]\n",
      "  [0.06047848 0.14152324 0.47650058 0.12189133 0.05175482 0.02963408\n",
      "   0.02965921 0.03051712 0.03017916 0.02786198]\n",
      "  [0.0268199  0.06076009 0.13972781 0.48574536 0.11949669 0.05704759\n",
      "   0.02738921 0.02696516 0.02987547 0.02617272]\n",
      "  [0.02814708 0.02871082 0.06008458 0.12355169 0.4879392  0.11933306\n",
      "   0.06348535 0.03365204 0.02636252 0.02873367]\n",
      "  [0.02707976 0.03395186 0.02642708 0.06216566 0.11588488 0.49518306\n",
      "   0.1193248  0.06376307 0.02865036 0.02756947]\n",
      "  [0.02799048 0.03223031 0.0309514  0.02922977 0.05971489 0.12501998\n",
      "   0.48760102 0.12020388 0.0586522  0.02840606]\n",
      "  [0.03290882 0.03112769 0.02883418 0.02920902 0.0293612  0.05941815\n",
      "   0.11787188 0.48771449 0.12034891 0.06320566]\n",
      "  [0.02999312 0.03064585 0.02726933 0.03012332 0.03069015 0.02918551\n",
      "   0.06308376 0.12815659 0.50063807 0.13021429]\n",
      "  [0.03205647 0.03550909 0.03867307 0.03378215 0.03675907 0.03693793\n",
      "   0.03357239 0.06619959 0.14058692 0.54592331]]\n",
      "\n",
      " [[0.54378077 0.15761333 0.0765628  0.03539675 0.03059503 0.0279957\n",
      "   0.02904863 0.0321595  0.03341426 0.03343324]\n",
      "  [0.14378869 0.49751517 0.13981666 0.05837885 0.0250772  0.02589294\n",
      "   0.02738806 0.02866668 0.02629072 0.02718505]\n",
      "  [0.06064834 0.12221959 0.46887134 0.14801552 0.05843551 0.0299082\n",
      "   0.0273673  0.02887231 0.02890027 0.02676161]\n",
      "  [0.02966482 0.06085051 0.11497517 0.5023598  0.11902295 0.06007899\n",
      "   0.02509824 0.02943942 0.03054458 0.02796551]\n",
      "  [0.03070946 0.02924255 0.06247465 0.12132453 0.49287763 0.11162879\n",
      "   0.06369724 0.03003583 0.02782298 0.03018633]\n",
      "  [0.02838188 0.03079165 0.03429722 0.06347796 0.11892429 0.4816956\n",
      "   0.1248369  0.056666   0.03257689 0.02835161]\n",
      "  [0.02937487 0.0287081  0.02833709 0.03080206 0.06147003 0.12630327\n",
      "   0.48232849 0.12057629 0.06289321 0.02920659]\n",
      "  [0.02726772 0.02957461 0.03160769 0.02933524 0.03242587 0.05787698\n",
      "   0.12028522 0.48977712 0.12120507 0.06064447]\n",
      "  [0.02950994 0.03326025 0.03323638 0.03459879 0.03211173 0.03050808\n",
      "   0.06419651 0.12824807 0.49067169 0.12365857]\n",
      "  [0.03891638 0.02959083 0.03650575 0.03642396 0.03628814 0.03603305\n",
      "   0.03314775 0.06551151 0.14270123 0.54488139]]\n",
      "\n",
      " [[0.53672142 0.1585109  0.07162164 0.04064353 0.03282385 0.03175298\n",
      "   0.03413889 0.0321135  0.02919061 0.03248268]\n",
      "  [0.11916219 0.4716924  0.16957114 0.07483722 0.02688682 0.02977862\n",
      "   0.02657048 0.02692038 0.02722706 0.02735368]\n",
      "  [0.05495887 0.11911078 0.49990018 0.13188619 0.05562691 0.03031594\n",
      "   0.02501117 0.02428861 0.02829114 0.03061022]\n",
      "  [0.03039959 0.05577986 0.14886312 0.47842082 0.11843846 0.05478644\n",
      "   0.02943785 0.02519068 0.02796671 0.03071646]\n",
      "  [0.03049224 0.03242683 0.06169509 0.11694686 0.48336835 0.11615036\n",
      "   0.06868466 0.02924692 0.03161294 0.02937576]\n",
      "  [0.03094337 0.02751373 0.02750721 0.05971431 0.12667793 0.48790306\n",
      "   0.11937072 0.06109855 0.02641989 0.03285123]\n",
      "  [0.02861669 0.02811588 0.02678077 0.028574   0.06025953 0.12162782\n",
      "   0.48819278 0.11689479 0.06560252 0.0353352 ]\n",
      "  [0.03055776 0.02900028 0.02898707 0.03071095 0.03100541 0.05805852\n",
      "   0.1223936  0.4873158  0.11824608 0.06372453]\n",
      "  [0.03339685 0.03388934 0.03381279 0.0339149  0.02914769 0.03091074\n",
      "   0.06175875 0.12510197 0.49169061 0.12637636]\n",
      "  [0.03217126 0.03189567 0.03222452 0.03370194 0.03907837 0.03515337\n",
      "   0.03380317 0.06725806 0.13783474 0.5568789 ]]]\n",
      "[[[0.08987594 0.06019675 0.04558171 0.02920615 0.03164083 0.03244834\n",
      "   0.03043871 0.0316272  0.02984241 0.03160667]\n",
      "  [0.06230948 0.07683798 0.06005513 0.03556969 0.02405594 0.0241015\n",
      "   0.02476357 0.02650229 0.02522004 0.03346634]\n",
      "  [0.03608576 0.05968035 0.08670945 0.05294411 0.03657648 0.02671087\n",
      "   0.02907547 0.02936268 0.02845652 0.02693926]\n",
      "  [0.02483753 0.04253169 0.05576324 0.08272431 0.057173   0.03910407\n",
      "   0.02448334 0.02639501 0.02519819 0.0242737 ]\n",
      "  [0.02690678 0.02787811 0.04325192 0.05815606 0.08455784 0.05115702\n",
      "   0.04821092 0.03307341 0.02430898 0.02965366]\n",
      "  [0.0259153  0.03394598 0.02524912 0.04327669 0.05868922 0.08981752\n",
      "   0.0529606  0.041561   0.0253928  0.02469561]\n",
      "  [0.02363778 0.0292867  0.03011886 0.02608334 0.0435007  0.05332384\n",
      "   0.08752937 0.05711957 0.039625   0.0296679 ]\n",
      "  [0.03390276 0.02985448 0.02927348 0.02745639 0.02926574 0.0395196\n",
      "   0.05516298 0.08819999 0.05447527 0.0422345 ]\n",
      "  [0.03040522 0.02866163 0.02402485 0.02843881 0.02893822 0.02629809\n",
      "   0.04084074 0.05388407 0.08818727 0.05820625]\n",
      "  [0.02900975 0.03362968 0.03373185 0.0309611  0.03348123 0.03566324\n",
      "   0.02891283 0.04008972 0.0609388  0.08737554]]\n",
      "\n",
      " [[0.08532259 0.06565422 0.04752687 0.0360576  0.03022947 0.02713407\n",
      "   0.02854655 0.0297861  0.03090103 0.03528082]\n",
      "  [0.05748469 0.0883472  0.06313127 0.03671403 0.02324922 0.0254475\n",
      "   0.02661961 0.02622251 0.02672914 0.02303744]\n",
      "  [0.04329366 0.05447002 0.08815043 0.0628026  0.04128734 0.03072464\n",
      "   0.0262408  0.02714194 0.02826922 0.02637035]\n",
      "  [0.02805669 0.04257628 0.05661659 0.09164971 0.05487903 0.03659875\n",
      "   0.02287608 0.02748094 0.02967011 0.02938181]\n",
      "  [0.02849498 0.02905107 0.03761889 0.05501734 0.07880126 0.05470729\n",
      "   0.03978061 0.02671201 0.02383188 0.02984112]\n",
      "  [0.02712032 0.02898107 0.03705693 0.03879438 0.05386814 0.09150927\n",
      "   0.06054284 0.03609373 0.03056108 0.02691678]\n",
      "  [0.02806085 0.02902295 0.02751533 0.0287658  0.0391566  0.062588\n",
      "   0.08445778 0.04952043 0.04026953 0.02544378]\n",
      "  [0.02942866 0.02675559 0.02918019 0.02955187 0.03131863 0.04095865\n",
      "   0.05397768 0.08405968 0.05412417 0.04206018]\n",
      "  [0.0291336  0.03218468 0.0309147  0.03341648 0.03157174 0.02990762\n",
      "   0.03862946 0.06286002 0.08452651 0.05945579]\n",
      "  [0.03871092 0.02670875 0.0381685  0.03652934 0.03471622 0.03488462\n",
      "   0.03352917 0.04556952 0.06472463 0.08883033]]\n",
      "\n",
      " [[0.09333196 0.06554193 0.05419087 0.04046716 0.03448519 0.02927241\n",
      "   0.03280672 0.03049973 0.02710422 0.02983752]\n",
      "  [0.053674   0.08232926 0.06541949 0.0461275  0.02734574 0.02996503\n",
      "   0.02521701 0.02385206 0.03001056 0.02611308]\n",
      "  [0.03533288 0.05878161 0.08023988 0.05694927 0.03639544 0.02808984\n",
      "   0.02556449 0.02337149 0.0264592  0.02724106]\n",
      "  [0.02790583 0.03729605 0.0631966  0.08317628 0.05174491 0.03549439\n",
      "   0.02764888 0.02160131 0.02629291 0.03250933]\n",
      "  [0.03158054 0.03246607 0.03974075 0.04977603 0.08181677 0.05319474\n",
      "   0.04638691 0.03021063 0.0301611  0.0287064 ]\n",
      "  [0.02949318 0.02753071 0.03230515 0.044382   0.05825819 0.08881032\n",
      "   0.05394015 0.04198435 0.02270525 0.02868816]\n",
      "  [0.02572616 0.02734224 0.02420463 0.02753722 0.03936327 0.05075216\n",
      "   0.08046566 0.05560484 0.04219042 0.03294871]\n",
      "  [0.02909786 0.02941175 0.03030032 0.02942932 0.02837909 0.04100658\n",
      "   0.05534701 0.08522669 0.05308986 0.03982237]\n",
      "  [0.03452228 0.03357699 0.0337562  0.0345863  0.02816531 0.0321422\n",
      "   0.0462192  0.05253851 0.08267594 0.05373541]\n",
      "  [0.03070505 0.03137098 0.03247978 0.03288689 0.03747723 0.03171421\n",
      "   0.03706968 0.04737682 0.06319649 0.09545646]]]\n"
     ]
    }
   ],
   "source": [
    "print(samples[0].mean(axis=0))\n",
    "print(samples[0].std(axis=0))"
   ]
  },
  {
   "cell_type": "markdown",
   "metadata": {},
   "source": [
    "## Using ModelBt"
   ]
  },
  {
   "cell_type": "code",
   "execution_count": 49,
   "metadata": {},
   "outputs": [
    {
     "name": "stdout",
     "output_type": "stream",
     "text": [
      "[0.72582499 0.6695306  0.83846417]\n",
      "-73.76684069203645\n"
     ]
    }
   ],
   "source": [
    "# create a new instance of model B, with 4 label classes and 8 annotators.\n",
    "model = ModelBt.create_initial_state(10, 3)\n",
    "print(model.theta)\n",
    "print(model.log_likelihood(response.annotations))"
   ]
  },
  {
   "cell_type": "code",
   "execution_count": 41,
   "metadata": {},
   "outputs": [
    {
     "name": "stdout",
     "output_type": "stream",
     "text": [
      "[0.63219557 0.86979459 0.77847245]\n",
      "-60.775424357185116\n"
     ]
    }
   ],
   "source": [
    "model.map(response.annotations)\n",
    "print(model.theta)\n",
    "print(model.log_likelihood(response.annotations))"
   ]
  },
  {
   "cell_type": "code",
   "execution_count": 42,
   "metadata": {},
   "outputs": [
    {
     "name": "stdout",
     "output_type": "stream",
     "text": [
      "[[5.16273811e-01 1.99259102e-01 1.28807506e-02 2.71586336e-01\n",
      "  0.00000000e+00 0.00000000e+00 0.00000000e+00 0.00000000e+00\n",
      "  0.00000000e+00 0.00000000e+00]\n",
      " [6.92272276e-04 9.65773712e-01 3.28417434e-02 6.92272276e-04\n",
      "  0.00000000e+00 0.00000000e+00 0.00000000e+00 0.00000000e+00\n",
      "  0.00000000e+00 0.00000000e+00]\n",
      " [1.25548711e-03 1.88323067e-03 9.21379448e-01 7.54818338e-02\n",
      "  0.00000000e+00 0.00000000e+00 0.00000000e+00 0.00000000e+00\n",
      "  0.00000000e+00 0.00000000e+00]\n",
      " [3.47535871e-04 8.06432262e-03 9.91240606e-01 3.47535871e-04\n",
      "  0.00000000e+00 0.00000000e+00 0.00000000e+00 0.00000000e+00\n",
      "  0.00000000e+00 0.00000000e+00]\n",
      " [8.40734780e-01 1.54969222e-01 2.57759850e-03 1.71839900e-03\n",
      "  0.00000000e+00 0.00000000e+00 0.00000000e+00 0.00000000e+00\n",
      "  0.00000000e+00 0.00000000e+00]\n",
      " [5.18895948e-04 7.78343922e-04 1.20406113e-02 9.86662149e-01\n",
      "  0.00000000e+00 0.00000000e+00 0.00000000e+00 0.00000000e+00\n",
      "  0.00000000e+00 0.00000000e+00]\n",
      " [1.00391260e-01 3.07870568e-01 5.85248557e-01 6.48961464e-03\n",
      "  0.00000000e+00 0.00000000e+00 0.00000000e+00 0.00000000e+00\n",
      "  0.00000000e+00 0.00000000e+00]\n",
      " [9.49039910e-01 4.84090499e-02 1.53062412e-03 1.02041608e-03\n",
      "  0.00000000e+00 0.00000000e+00 0.00000000e+00 0.00000000e+00\n",
      "  0.00000000e+00 0.00000000e+00]\n",
      " [6.92272276e-04 9.65773712e-01 3.28417434e-02 6.92272276e-04\n",
      "  0.00000000e+00 0.00000000e+00 0.00000000e+00 0.00000000e+00\n",
      "  0.00000000e+00 0.00000000e+00]\n",
      " [1.02041608e-03 1.53062412e-03 4.84090499e-02 9.49039910e-01\n",
      "  0.00000000e+00 0.00000000e+00 0.00000000e+00 0.00000000e+00\n",
      "  0.00000000e+00 0.00000000e+00]]\n"
     ]
    }
   ],
   "source": [
    "posterior = model.infer_labels(response.annotations)\n",
    "print(posterior)"
   ]
  },
  {
   "cell_type": "code",
   "execution_count": 47,
   "metadata": {},
   "outputs": [
    {
     "data": {
      "image/png": "[encoded data removed]",
      "text/plain": [
       "<Figure size 432x288 with 2 Axes>"
      ]
     },
     "metadata": {
      "needs_background": "light"
     },
     "output_type": "display_data"
    }
   ],
   "source": [
    "# Visualizing the posterior for ModelBt\n",
    "ax = seaborn.heatmap(posterior[:10,:4])\n",
    "plt.show()"
   ]
  },
  {
   "cell_type": "markdown",
   "metadata": {},
   "source": [
    "## Visualizing coder accuracy"
   ]
  },
  {
   "cell_type": "code",
   "execution_count": 52,
   "metadata": {},
   "outputs": [],
   "source": [
    "model = ModelBt.create_initial_state(10, 3)\n",
    "model.mle(response.annotations)\n",
    "samples = model.sample_posterior_over_accuracy(response.annotations, 200, burn_in_samples=100, thin_samples=3)\n",
    "y =  samples.mean(axis=0)#.mean(axis = 1).mean(axis = 1)\n",
    "y_ci = samples.std(axis=0)#.mean(axis = 1).mean(axis = 1)"
   ]
  },
  {
   "cell_type": "code",
   "execution_count": 56,
   "metadata": {},
   "outputs": [
    {
     "data": {
      "image/png": "[encoded data removed]",
      "text/plain": [
       "<Figure size 432x288 with 1 Axes>"
      ]
     },
     "metadata": {
      "needs_background": "light"
     },
     "output_type": "display_data"
    }
   ],
   "source": [
    "# 3 is number of annotators\n",
    "plt.figure()\n",
    "plt.errorbar(range(3),y, yerr = y_ci)\n",
    "plt.show()"
   ]
  },
  {
   "cell_type": "markdown",
   "metadata": {},
   "source": [
    "Similar to the conclusion from the section 1, the overall annotation analysis shows that the coder 3 is the lowest-quality annotator. In the graph right above, the line decreases over the coders, which ends with the lowest value of the third coder. Moreover, the estimates from all the models do not show good consistency across the annotators. "
   ]
  },
  {
   "cell_type": "code",
   "execution_count": null,
   "metadata": {},
   "outputs": [],
   "source": []
  }
 ],
 "metadata": {
  "anaconda-cloud": {},
  "hide_input": false,
  "kernelspec": {
   "display_name": "Python 3",
   "language": "python",
   "name": "python3"
  },
  "language_info": {
   "codemirror_mode": {
    "name": "ipython",
    "version": 3
   },
   "file_extension": ".py",
   "mimetype": "text/x-python",
   "name": "python",
   "nbconvert_exporter": "python",
   "pygments_lexer": "ipython3",
   "version": "3.7.4"
  },
  "toc": {
   "base_numbering": 1,
   "nav_menu": {},
   "number_sections": true,
   "sideBar": true,
   "skip_h1_title": false,
   "title_cell": "Table of Contents",
   "title_sidebar": "Contents",
   "toc_cell": false,
   "toc_position": {},
   "toc_section_display": true,
   "toc_window_display": true
  }
 },
 "nbformat": 4,
 "nbformat_minor": 1
}
